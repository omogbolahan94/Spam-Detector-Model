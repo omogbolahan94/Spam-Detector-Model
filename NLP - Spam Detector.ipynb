{
 "cells": [
  {
   "cell_type": "code",
   "execution_count": 1,
   "id": "1a0771ad",
   "metadata": {},
   "outputs": [],
   "source": [
    "import nltk"
   ]
  },
  {
   "cell_type": "code",
   "execution_count": null,
   "id": "118f5a27",
   "metadata": {},
   "outputs": [],
   "source": []
  },
  {
   "cell_type": "code",
   "execution_count": 2,
   "id": "609890e6",
   "metadata": {},
   "outputs": [],
   "source": [
    "import pandas as pd\n",
    "import numpy as np\n",
    "import matplotlib.pyplot as plt\n",
    "import seaborn as sns"
   ]
  },
  {
   "cell_type": "code",
   "execution_count": 3,
   "id": "f099fc96",
   "metadata": {},
   "outputs": [
    {
     "name": "stdout",
     "output_type": "stream",
     "text": [
      "NLTK Downloader\n",
      "---------------------------------------------------------------------------\n",
      "    d) Download   l) List    u) Update   c) Config   h) Help   q) Quit\n",
      "---------------------------------------------------------------------------\n",
      "Downloader> d\n",
      "\n",
      "Download which package (l=list; x=cancel)?\n",
      "  Identifier> stopwords\n"
     ]
    },
    {
     "name": "stderr",
     "output_type": "stream",
     "text": [
      "    Downloading package stopwords to C:\\Users\\PT\n",
      "        WORLD\\AppData\\Roaming\\nltk_data...\n",
      "      Unzipping corpora\\stopwords.zip.\n"
     ]
    },
    {
     "name": "stdout",
     "output_type": "stream",
     "text": [
      "\n",
      "---------------------------------------------------------------------------\n",
      "    d) Download   l) List    u) Update   c) Config   h) Help   q) Quit\n",
      "---------------------------------------------------------------------------\n",
      "Downloader> q\n"
     ]
    }
   ],
   "source": [
    "# nltk.download_shell()"
   ]
  },
  {
   "cell_type": "code",
   "execution_count": 99,
   "id": "26418b49",
   "metadata": {},
   "outputs": [],
   "source": [
    "from nltk.corpus import stopwords\n",
    "import string"
   ]
  },
  {
   "cell_type": "markdown",
   "id": "bb9eae79",
   "metadata": {},
   "source": [
    "<h2> BUILDING A SPAM DETECTION SYSTEMS WITH PYTHON </h2> "
   ]
  },
  {
   "cell_type": "code",
   "execution_count": null,
   "id": "1a229fa0",
   "metadata": {},
   "outputs": [],
   "source": []
  },
  {
   "cell_type": "markdown",
   "id": "6a2ef012",
   "metadata": {},
   "source": [
    "<h4>LOADING THE DATASET</h4>"
   ]
  },
  {
   "cell_type": "code",
   "execution_count": 14,
   "id": "299d8fc9",
   "metadata": {},
   "outputs": [],
   "source": [
    "messages = [line.rstrip() for line in open('SMSSpamCollection')]"
   ]
  },
  {
   "cell_type": "code",
   "execution_count": 16,
   "id": "2b7a6d24",
   "metadata": {},
   "outputs": [
    {
     "name": "stdout",
     "output_type": "stream",
     "text": [
      "ham\tU dun say so early hor... U c already then say...\n"
     ]
    }
   ],
   "source": [
    "print(messages[3])"
   ]
  },
  {
   "cell_type": "code",
   "execution_count": 13,
   "id": "296db50e",
   "metadata": {},
   "outputs": [
    {
     "data": {
      "text/plain": [
       "5574"
      ]
     },
     "execution_count": 13,
     "metadata": {},
     "output_type": "execute_result"
    }
   ],
   "source": [
    "len(messages)"
   ]
  },
  {
   "cell_type": "code",
   "execution_count": null,
   "id": "af4e22af",
   "metadata": {},
   "outputs": [],
   "source": []
  },
  {
   "cell_type": "code",
   "execution_count": 23,
   "id": "dd259729",
   "metadata": {},
   "outputs": [],
   "source": [
    "# creating a dataframe for the label and message of 'SMSSpamCollection' file\n",
    "df = pd.read_csv('SMSSpamCollection', sep='\\t', names=['label', 'message'])"
   ]
  },
  {
   "cell_type": "code",
   "execution_count": 24,
   "id": "2f4a338b",
   "metadata": {},
   "outputs": [
    {
     "data": {
      "text/html": [
       "<div>\n",
       "<style scoped>\n",
       "    .dataframe tbody tr th:only-of-type {\n",
       "        vertical-align: middle;\n",
       "    }\n",
       "\n",
       "    .dataframe tbody tr th {\n",
       "        vertical-align: top;\n",
       "    }\n",
       "\n",
       "    .dataframe thead th {\n",
       "        text-align: right;\n",
       "    }\n",
       "</style>\n",
       "<table border=\"1\" class=\"dataframe\">\n",
       "  <thead>\n",
       "    <tr style=\"text-align: right;\">\n",
       "      <th></th>\n",
       "      <th>label</th>\n",
       "      <th>message</th>\n",
       "    </tr>\n",
       "  </thead>\n",
       "  <tbody>\n",
       "    <tr>\n",
       "      <th>0</th>\n",
       "      <td>ham</td>\n",
       "      <td>Go until jurong point, crazy.. Available only ...</td>\n",
       "    </tr>\n",
       "    <tr>\n",
       "      <th>1</th>\n",
       "      <td>ham</td>\n",
       "      <td>Ok lar... Joking wif u oni...</td>\n",
       "    </tr>\n",
       "    <tr>\n",
       "      <th>2</th>\n",
       "      <td>spam</td>\n",
       "      <td>Free entry in 2 a wkly comp to win FA Cup fina...</td>\n",
       "    </tr>\n",
       "    <tr>\n",
       "      <th>3</th>\n",
       "      <td>ham</td>\n",
       "      <td>U dun say so early hor... U c already then say...</td>\n",
       "    </tr>\n",
       "    <tr>\n",
       "      <th>4</th>\n",
       "      <td>ham</td>\n",
       "      <td>Nah I don't think he goes to usf, he lives aro...</td>\n",
       "    </tr>\n",
       "  </tbody>\n",
       "</table>\n",
       "</div>"
      ],
      "text/plain": [
       "  label                                            message\n",
       "0   ham  Go until jurong point, crazy.. Available only ...\n",
       "1   ham                      Ok lar... Joking wif u oni...\n",
       "2  spam  Free entry in 2 a wkly comp to win FA Cup fina...\n",
       "3   ham  U dun say so early hor... U c already then say...\n",
       "4   ham  Nah I don't think he goes to usf, he lives aro..."
      ]
     },
     "execution_count": 24,
     "metadata": {},
     "output_type": "execute_result"
    }
   ],
   "source": [
    "df.head()"
   ]
  },
  {
   "cell_type": "markdown",
   "id": "bdf04268",
   "metadata": {},
   "source": [
    "<h4>EXPLORING THE DATA SET</h4>"
   ]
  },
  {
   "cell_type": "code",
   "execution_count": 26,
   "id": "8391e04a",
   "metadata": {},
   "outputs": [
    {
     "data": {
      "text/plain": [
       "label                                ham\n",
       "message    Ok lar... Joking wif u oni...\n",
       "Name: 1, dtype: object"
      ]
     },
     "execution_count": 26,
     "metadata": {},
     "output_type": "execute_result"
    }
   ],
   "source": [
    "# grab the first row\n",
    "df.loc[1, :]"
   ]
  },
  {
   "cell_type": "code",
   "execution_count": 30,
   "id": "31f11df0",
   "metadata": {},
   "outputs": [
    {
     "data": {
      "text/html": [
       "<div>\n",
       "<style scoped>\n",
       "    .dataframe tbody tr th:only-of-type {\n",
       "        vertical-align: middle;\n",
       "    }\n",
       "\n",
       "    .dataframe tbody tr th {\n",
       "        vertical-align: top;\n",
       "    }\n",
       "\n",
       "    .dataframe thead tr th {\n",
       "        text-align: left;\n",
       "    }\n",
       "\n",
       "    .dataframe thead tr:last-of-type th {\n",
       "        text-align: right;\n",
       "    }\n",
       "</style>\n",
       "<table border=\"1\" class=\"dataframe\">\n",
       "  <thead>\n",
       "    <tr>\n",
       "      <th></th>\n",
       "      <th colspan=\"4\" halign=\"left\">message</th>\n",
       "    </tr>\n",
       "    <tr>\n",
       "      <th></th>\n",
       "      <th>count</th>\n",
       "      <th>unique</th>\n",
       "      <th>top</th>\n",
       "      <th>freq</th>\n",
       "    </tr>\n",
       "    <tr>\n",
       "      <th>label</th>\n",
       "      <th></th>\n",
       "      <th></th>\n",
       "      <th></th>\n",
       "      <th></th>\n",
       "    </tr>\n",
       "  </thead>\n",
       "  <tbody>\n",
       "    <tr>\n",
       "      <th>ham</th>\n",
       "      <td>4825</td>\n",
       "      <td>4516</td>\n",
       "      <td>Sorry, I'll call later</td>\n",
       "      <td>30</td>\n",
       "    </tr>\n",
       "    <tr>\n",
       "      <th>spam</th>\n",
       "      <td>747</td>\n",
       "      <td>653</td>\n",
       "      <td>Please call our customer service representativ...</td>\n",
       "      <td>4</td>\n",
       "    </tr>\n",
       "  </tbody>\n",
       "</table>\n",
       "</div>"
      ],
      "text/plain": [
       "      message                                                               \n",
       "        count unique                                                top freq\n",
       "label                                                                       \n",
       "ham      4825   4516                             Sorry, I'll call later   30\n",
       "spam      747    653  Please call our customer service representativ...    4"
      ]
     },
     "execution_count": 30,
     "metadata": {},
     "output_type": "execute_result"
    }
   ],
   "source": [
    "# examining the dataset\n",
    "df.groupby('label').describe()"
   ]
  },
  {
   "cell_type": "code",
   "execution_count": null,
   "id": "d868fa74",
   "metadata": {},
   "outputs": [],
   "source": []
  },
  {
   "cell_type": "code",
   "execution_count": 38,
   "id": "cca551f9",
   "metadata": {},
   "outputs": [],
   "source": [
    "# checking for the length of each messages\n",
    "\n",
    "df['length'] = df.message.apply(len)"
   ]
  },
  {
   "cell_type": "code",
   "execution_count": 39,
   "id": "e483652b",
   "metadata": {},
   "outputs": [
    {
     "data": {
      "text/html": [
       "<div>\n",
       "<style scoped>\n",
       "    .dataframe tbody tr th:only-of-type {\n",
       "        vertical-align: middle;\n",
       "    }\n",
       "\n",
       "    .dataframe tbody tr th {\n",
       "        vertical-align: top;\n",
       "    }\n",
       "\n",
       "    .dataframe thead th {\n",
       "        text-align: right;\n",
       "    }\n",
       "</style>\n",
       "<table border=\"1\" class=\"dataframe\">\n",
       "  <thead>\n",
       "    <tr style=\"text-align: right;\">\n",
       "      <th></th>\n",
       "      <th>label</th>\n",
       "      <th>message</th>\n",
       "      <th>length</th>\n",
       "    </tr>\n",
       "  </thead>\n",
       "  <tbody>\n",
       "    <tr>\n",
       "      <th>0</th>\n",
       "      <td>ham</td>\n",
       "      <td>Go until jurong point, crazy.. Available only ...</td>\n",
       "      <td>111</td>\n",
       "    </tr>\n",
       "    <tr>\n",
       "      <th>1</th>\n",
       "      <td>ham</td>\n",
       "      <td>Ok lar... Joking wif u oni...</td>\n",
       "      <td>29</td>\n",
       "    </tr>\n",
       "    <tr>\n",
       "      <th>2</th>\n",
       "      <td>spam</td>\n",
       "      <td>Free entry in 2 a wkly comp to win FA Cup fina...</td>\n",
       "      <td>155</td>\n",
       "    </tr>\n",
       "    <tr>\n",
       "      <th>3</th>\n",
       "      <td>ham</td>\n",
       "      <td>U dun say so early hor... U c already then say...</td>\n",
       "      <td>49</td>\n",
       "    </tr>\n",
       "    <tr>\n",
       "      <th>4</th>\n",
       "      <td>ham</td>\n",
       "      <td>Nah I don't think he goes to usf, he lives aro...</td>\n",
       "      <td>61</td>\n",
       "    </tr>\n",
       "  </tbody>\n",
       "</table>\n",
       "</div>"
      ],
      "text/plain": [
       "  label                                            message  length\n",
       "0   ham  Go until jurong point, crazy.. Available only ...     111\n",
       "1   ham                      Ok lar... Joking wif u oni...      29\n",
       "2  spam  Free entry in 2 a wkly comp to win FA Cup fina...     155\n",
       "3   ham  U dun say so early hor... U c already then say...      49\n",
       "4   ham  Nah I don't think he goes to usf, he lives aro...      61"
      ]
     },
     "execution_count": 39,
     "metadata": {},
     "output_type": "execute_result"
    }
   ],
   "source": [
    "df.head()"
   ]
  },
  {
   "cell_type": "code",
   "execution_count": 40,
   "id": "d1d7419e",
   "metadata": {},
   "outputs": [
    {
     "data": {
      "text/plain": [
       "5169"
      ]
     },
     "execution_count": 40,
     "metadata": {},
     "output_type": "execute_result"
    }
   ],
   "source": [
    "df.message.nunique()"
   ]
  },
  {
   "cell_type": "code",
   "execution_count": 41,
   "id": "a1d8428d",
   "metadata": {},
   "outputs": [
    {
     "data": {
      "text/plain": [
       "Sorry, I'll call later                                                                                                                                                                 30\n",
       "I cant pick the phone right now. Pls send a message                                                                                                                                    12\n",
       "Ok...                                                                                                                                                                                  10\n",
       "Say this slowly.? GOD,I LOVE YOU &amp; I NEED YOU,CLEAN MY HEART WITH YOUR BLOOD.Send this to Ten special people &amp; u c miracle tomorrow, do it,pls,pls do it...                     4\n",
       "Wen ur lovable bcums angry wid u, dnt take it seriously.. Coz being angry is d most childish n true way of showing deep affection, care n luv!.. kettoda manda... Have nice day da.     4\n",
       "Name: message, dtype: int64"
      ]
     },
     "execution_count": 41,
     "metadata": {},
     "output_type": "execute_result"
    }
   ],
   "source": [
    "df.message.value_counts().head()"
   ]
  },
  {
   "cell_type": "code",
   "execution_count": null,
   "id": "09437165",
   "metadata": {},
   "outputs": [],
   "source": []
  },
  {
   "cell_type": "code",
   "execution_count": 48,
   "id": "28c0860d",
   "metadata": {},
   "outputs": [
    {
     "data": {
      "text/plain": [
       "<AxesSubplot:ylabel='Frequency'>"
      ]
     },
     "execution_count": 48,
     "metadata": {},
     "output_type": "execute_result"
    },
    {
     "data": {
      "image/png": "[encoded data removed]",
      "text/plain": [
       "<Figure size 432x288 with 1 Axes>"
      ]
     },
     "metadata": {
      "needs_background": "light"
     },
     "output_type": "display_data"
    }
   ],
   "source": [
    "# visualising the length of each messags on hist plot\n",
    "df.length.plot(kind='hist', bins=100)"
   ]
  },
  {
   "cell_type": "code",
   "execution_count": 47,
   "id": "0ad9a806",
   "metadata": {},
   "outputs": [
    {
     "data": {
      "text/plain": [
       "<AxesSubplot:xlabel='length', ylabel='Count'>"
      ]
     },
     "execution_count": 47,
     "metadata": {},
     "output_type": "execute_result"
    },
    {
     "data": {
      "image/png": "[encoded data removed]",
      "text/plain": [
       "<Figure size 432x288 with 1 Axes>"
      ]
     },
     "metadata": {
      "needs_background": "light"
     },
     "output_type": "display_data"
    }
   ],
   "source": [
    "# visualization using seaborn\n",
    "sns.histplot(df.length, bins=100)"
   ]
  },
  {
   "cell_type": "code",
   "execution_count": null,
   "id": "225b9553",
   "metadata": {},
   "outputs": [],
   "source": []
  },
  {
   "cell_type": "code",
   "execution_count": 49,
   "id": "e4938b7e",
   "metadata": {},
   "outputs": [
    {
     "data": {
      "text/plain": [
       "count    5572.000000\n",
       "mean       80.489950\n",
       "std        59.942907\n",
       "min         2.000000\n",
       "25%        36.000000\n",
       "50%        62.000000\n",
       "75%       122.000000\n",
       "max       910.000000\n",
       "Name: length, dtype: float64"
      ]
     },
     "execution_count": 49,
     "metadata": {},
     "output_type": "execute_result"
    }
   ],
   "source": [
    "# the histogram shows there is an outlier. seeing the table \n",
    "df.length.describe()"
   ]
  },
  {
   "cell_type": "code",
   "execution_count": null,
   "id": "4b9f2ddb",
   "metadata": {},
   "outputs": [],
   "source": []
  },
  {
   "cell_type": "markdown",
   "id": "fef32d3f",
   "metadata": {},
   "source": [
    "<h4>PREPROCESSING STRINGS</h4>"
   ]
  },
  {
   "cell_type": "code",
   "execution_count": 100,
   "id": "357586d0",
   "metadata": {},
   "outputs": [],
   "source": [
    "# USING THE STRING METHOD"
   ]
  },
  {
   "cell_type": "code",
   "execution_count": 52,
   "id": "5f7f2a25",
   "metadata": {},
   "outputs": [],
   "source": [
    "dummy_text = \"Sample message! Notice: it has punctuation.\""
   ]
  },
  {
   "cell_type": "code",
   "execution_count": 53,
   "id": "1dcd77e8",
   "metadata": {},
   "outputs": [
    {
     "data": {
      "text/plain": [
       "'!\"#$%&\\'()*+,-./:;<=>?@[\\\\]^_`{|}~'"
      ]
     },
     "execution_count": 53,
     "metadata": {},
     "output_type": "execute_result"
    }
   ],
   "source": [
    "# visualising the possible punctuations in the string library\n",
    "string.punctuation"
   ]
  },
  {
   "cell_type": "code",
   "execution_count": 58,
   "id": "de68d4c3",
   "metadata": {},
   "outputs": [
    {
     "data": {
      "text/plain": [
       "['S',\n",
       " 'a',\n",
       " 'm',\n",
       " 'p',\n",
       " 'l',\n",
       " 'e',\n",
       " ' ',\n",
       " 'm',\n",
       " 'e',\n",
       " 's',\n",
       " 's',\n",
       " 'a',\n",
       " 'g',\n",
       " 'e',\n",
       " ' ',\n",
       " 'N',\n",
       " 'o',\n",
       " 't',\n",
       " 'i',\n",
       " 'c',\n",
       " 'e',\n",
       " ' ',\n",
       " 'i',\n",
       " 't',\n",
       " ' ',\n",
       " 'h',\n",
       " 'a',\n",
       " 's',\n",
       " ' ',\n",
       " 'p',\n",
       " 'u',\n",
       " 'n',\n",
       " 'c',\n",
       " 't',\n",
       " 'u',\n",
       " 'a',\n",
       " 't',\n",
       " 'i',\n",
       " 'o',\n",
       " 'n']"
      ]
     },
     "execution_count": 58,
     "metadata": {},
     "output_type": "execute_result"
    }
   ],
   "source": [
    "# removing punctuations from the dummy_text punctuation\n",
    "no_punc = [c for c in dummy_text if c not in string.punctuation]\n",
    "no_punc"
   ]
  },
  {
   "cell_type": "code",
   "execution_count": null,
   "id": "3eecd2f2",
   "metadata": {},
   "outputs": [],
   "source": []
  },
  {
   "cell_type": "code",
   "execution_count": 63,
   "id": "66b20e27",
   "metadata": {},
   "outputs": [
    {
     "data": {
      "text/plain": [
       "'Sample message Notice it has punctuation'"
      ]
     },
     "execution_count": 63,
     "metadata": {},
     "output_type": "execute_result"
    }
   ],
   "source": [
    "''.join(no_punc)"
   ]
  },
  {
   "cell_type": "code",
   "execution_count": 64,
   "id": "e2c9339d",
   "metadata": {},
   "outputs": [
    {
     "data": {
      "text/plain": [
       "'Sample message Notice it has punctuation'"
      ]
     },
     "execution_count": 64,
     "metadata": {},
     "output_type": "execute_result"
    }
   ],
   "source": [
    "no_punc = ''.join(no_punc)\n",
    "no_punc"
   ]
  },
  {
   "cell_type": "code",
   "execution_count": null,
   "id": "680ae06c",
   "metadata": {},
   "outputs": [],
   "source": []
  },
  {
   "cell_type": "code",
   "execution_count": 65,
   "id": "f6fc7a1a",
   "metadata": {},
   "outputs": [],
   "source": [
    "# USING THE STOPWORDS METHOD FROM THE NLTK MODULE"
   ]
  },
  {
   "cell_type": "code",
   "execution_count": 74,
   "id": "fdd5acaf",
   "metadata": {},
   "outputs": [
    {
     "data": {
      "text/plain": [
       "['i', 'me', 'my', 'myself', 'we', 'our', 'ours', 'ourselves', 'you', \"you're\"]"
      ]
     },
     "execution_count": 74,
     "metadata": {},
     "output_type": "execute_result"
    }
   ],
   "source": [
    "stopwords.words('english')[:10]"
   ]
  },
  {
   "cell_type": "code",
   "execution_count": 71,
   "id": "c22c68e3",
   "metadata": {},
   "outputs": [],
   "source": [
    "cleaned_no_punc = [c for c in no_punc.split() if c not in stopwords.words('english')]"
   ]
  },
  {
   "cell_type": "code",
   "execution_count": 72,
   "id": "99f59432",
   "metadata": {},
   "outputs": [
    {
     "data": {
      "text/plain": [
       "['Sample', 'message', 'Notice', 'punctuation']"
      ]
     },
     "execution_count": 72,
     "metadata": {},
     "output_type": "execute_result"
    }
   ],
   "source": [
    "cleaned_no_punc"
   ]
  },
  {
   "cell_type": "code",
   "execution_count": null,
   "id": "c1ac28d6",
   "metadata": {},
   "outputs": [],
   "source": []
  },
  {
   "cell_type": "code",
   "execution_count": 101,
   "id": "911f8e9c",
   "metadata": {},
   "outputs": [],
   "source": [
    "# function that repeats the previous output of the cleaned_no_punc\n",
    "def text_processing(text):\n",
    "    \"\"\"\n",
    "    1) remove punctuation\n",
    "    2) remove stop words\n",
    "    3) return cleaned text without punctuation and stopwords \n",
    "    --> this returned cleaned text is a list of the words we want and this is called tokenization\n",
    "    --> where each word is the token\n",
    "    \"\"\"\n",
    "    no_punc = [c for c in text if c not in string.punctuation]\n",
    "    no_punc = ''.join(no_punc)\n",
    "    cleaned_no_punc = [char for char in no_punc.lower().split() if char not in stopwords.words('english')]\n",
    "    return cleaned_no_punc"
   ]
  },
  {
   "cell_type": "code",
   "execution_count": 102,
   "id": "c6735bfb",
   "metadata": {},
   "outputs": [
    {
     "data": {
      "text/plain": [
       "['hello', 'world', 'still', 'talk', 'ade']"
      ]
     },
     "execution_count": 102,
     "metadata": {},
     "output_type": "execute_result"
    }
   ],
   "source": [
    "text_processing('hello world! i still talk about ade and i')"
   ]
  },
  {
   "cell_type": "code",
   "execution_count": null,
   "id": "1235e34f",
   "metadata": {},
   "outputs": [],
   "source": []
  },
  {
   "cell_type": "code",
   "execution_count": 106,
   "id": "a31de5ad",
   "metadata": {},
   "outputs": [
    {
     "data": {
      "text/plain": [
       "0    [go, jurong, point, crazy, available, bugis, n...\n",
       "1                       [ok, lar, joking, wif, u, oni]\n",
       "2    [free, entry, 2, wkly, comp, win, fa, cup, fin...\n",
       "3        [u, dun, say, early, hor, u, c, already, say]\n",
       "4    [nah, dont, think, goes, usf, lives, around, t...\n",
       "Name: message, dtype: object"
      ]
     },
     "execution_count": 106,
     "metadata": {},
     "output_type": "execute_result"
    }
   ],
   "source": [
    "df.message.head().apply(text_processing)"
   ]
  },
  {
   "cell_type": "code",
   "execution_count": null,
   "id": "6a2fa620",
   "metadata": {},
   "outputs": [],
   "source": []
  },
  {
   "cell_type": "markdown",
   "id": "46addb74",
   "metadata": {},
   "source": [
    "<h4>VECTORIZING OUR TEXT USING BAG OF WORDS MODEL FOR MACHINE LEARNING TO UNDERSTAND IT</h4>\n",
    "EACH DOCUMENT WILL HAVE AS MANY DIMENSIONS AS THERE ARE UNIQUE WORDS IN THE SMS CORPUS\n",
    "<br>\n",
    "<br>\n",
    "<li>COUNT HOW MANYTIMES A WORD OCCOURS IN EACH MESSAGE (KNOWN AS TERM FREQUENCY)\n",
    "<li>WEIGH THE COUNT SO THAT FREQUENT TOKENS GET THE LOWER WEIGHT (INVERSE DOCUMENT FREQUENCY)\n",
    "<li>NORMALIZE THE VECTOR TO UNIT LENGHT, TO ABSTRACT FROM THE ORIGINAL TEXT LENGHT (L2 norm)\n",
    "<br>\n",
    "<br>\n",
    "<li>CONVERT A COLLECTION OF TEXT DOCUMENT TO MATRIX OF TOKEN COUNT (BAG OF WORDS)\n",
    "<li>CHECK FOR THE COUNT OF SPECIFIC WORDS IN EACH MESSAGES IN OUR DATA SET\n",
    "<li>COLUMN: REP EACH MESSAGES (DOCUMENT)\n",
    "<li>ROW: EACH UNIQUE WORDS \n",
    "<li>WE CAN VISUALISE THE TABLE OF WORD COUNT AS SHOWN BELOW IF FOR INSTACNE WE HAVE 3 MESSAGES IN OUR DATA:\n",
    "<br>\n",
    "<table>\n",
    "    <tr>\n",
    "        <th>Row No</th>\n",
    "        <th>Message 1</th>\n",
    "        <th>Message 2</th>\n",
    "        <th>Message 3</th>\n",
    "    <tr>\n",
    "    <tr>\n",
    "        <td>word1</td>\n",
    "        <td>0</td>\n",
    "        <td>2</td>\n",
    "        <td>0</td>\n",
    "    <tr>\n",
    "    <tr>\n",
    "        <td>word 2</td>\n",
    "        <td>0</td>\n",
    "        <td>5</td>\n",
    "        <td>1</td>\n",
    "    <tr>\n",
    "    <tr>\n",
    "        <td>.\n",
    "            .\n",
    "            .</td>\n",
    "        <td>.\n",
    "            .\n",
    "            .</td>\n",
    "        <td>.\n",
    "            .\n",
    "            .</td>\n",
    "        <td>.\n",
    "            .\n",
    "            .</td>\n",
    "    <tr>\n",
    "</table>\n",
    "<br>\n",
    "<br>   \n",
    "<li>BECAUSE THERE WILL BE TOO MANY WORDS WITH ZEROS(0) COUNTS IN A MESSAGE (DOCUMENT), SKLEARN IS GOING TO RETURN SPARSE MATRIX\n",
    "<br>\n",
    "<br> \n",
    "        \n",
    " "
   ]
  },
  {
   "cell_type": "code",
   "execution_count": 108,
   "id": "4a21347a",
   "metadata": {},
   "outputs": [],
   "source": [
    "from sklearn.feature_extraction.text import CountVectorizer"
   ]
  },
  {
   "cell_type": "code",
   "execution_count": 110,
   "id": "27d99204",
   "metadata": {},
   "outputs": [],
   "source": [
    "# bow - Bag of Words\n",
    "bow_transformer = CountVectorizer(analyzer=text_processing).fit(df.message)"
   ]
  },
  {
   "cell_type": "code",
   "execution_count": 111,
   "id": "14e77b32",
   "metadata": {},
   "outputs": [
    {
     "data": {
      "text/plain": [
       "9530"
      ]
     },
     "execution_count": 111,
     "metadata": {},
     "output_type": "execute_result"
    }
   ],
   "source": [
    "len(bow_transformer.vocabulary_)"
   ]
  },
  {
   "cell_type": "code",
   "execution_count": 114,
   "id": "fe37fbb1",
   "metadata": {},
   "outputs": [],
   "source": [
    "# testing the bag of words transfore \n",
    "mess4 = df.message[3]"
   ]
  },
  {
   "cell_type": "code",
   "execution_count": 115,
   "id": "91b2ce94",
   "metadata": {},
   "outputs": [
    {
     "data": {
      "text/plain": [
       "'U dun say so early hor... U c already then say...'"
      ]
     },
     "execution_count": 115,
     "metadata": {},
     "output_type": "execute_result"
    }
   ],
   "source": [
    "mess4"
   ]
  },
  {
   "cell_type": "code",
   "execution_count": 117,
   "id": "c6023854",
   "metadata": {},
   "outputs": [],
   "source": [
    "bow4 = bow_transformer.transform([mess4])"
   ]
  },
  {
   "cell_type": "code",
   "execution_count": 120,
   "id": "a0af1e66",
   "metadata": {},
   "outputs": [
    {
     "data": {
      "text/plain": [
       "<1x9530 sparse matrix of type '<class 'numpy.int64'>'\n",
       "\twith 7 stored elements in Compressed Sparse Row format>"
      ]
     },
     "execution_count": 120,
     "metadata": {},
     "output_type": "execute_result"
    }
   ],
   "source": [
    "bow4"
   ]
  },
  {
   "cell_type": "code",
   "execution_count": 121,
   "id": "b710fbcf",
   "metadata": {},
   "outputs": [
    {
     "name": "stdout",
     "output_type": "stream",
     "text": [
      "  (0, 1129)\t1\n",
      "  (0, 1910)\t1\n",
      "  (0, 3002)\t1\n",
      "  (0, 3023)\t1\n",
      "  (0, 4219)\t1\n",
      "  (0, 7208)\t2\n",
      "  (0, 8626)\t2\n"
     ]
    }
   ],
   "source": [
    "print(bow4)"
   ]
  },
  {
   "cell_type": "code",
   "execution_count": 124,
   "id": "b8971d29",
   "metadata": {},
   "outputs": [
    {
     "name": "stdout",
     "output_type": "stream",
     "text": [
      "'say' occurs twice\n",
      "'u' occurs twice\n"
     ]
    }
   ],
   "source": [
    "# getting the feature of bow4 and their respective count.\n",
    "# using the index number above to get the (word) feature that occurs as a specified number of count\n",
    "print(f\"'{bow_transformer.get_feature_names()[7208]}' occurs twice\")\n",
    "print(f\"'{bow_transformer.get_feature_names()[8626]}' occurs twice\")"
   ]
  },
  {
   "cell_type": "code",
   "execution_count": null,
   "id": "95055367",
   "metadata": {},
   "outputs": [],
   "source": []
  },
  {
   "cell_type": "code",
   "execution_count": 125,
   "id": "a447f297",
   "metadata": {},
   "outputs": [],
   "source": [
    "# GOING BACK TO THE MAIN BOW_TRANSFORMER\n",
    "# AND CREATING BAG OF WORDS IN SPARSE FORM FOR THE MESSAGE COLUMN\n",
    "message_bow = bow_transformer.transform(df['message'])"
   ]
  },
  {
   "cell_type": "code",
   "execution_count": 136,
   "id": "bb76be2c",
   "metadata": {},
   "outputs": [
    {
     "name": "stdout",
     "output_type": "stream",
     "text": [
      "  (0, 1156)\t1\n",
      "  (0, 1389)\t1\n",
      "  (0, 1858)\t1\n",
      "  (0, 1860)\t1\n",
      "  (0, 2200)\t1\n",
      "  (0, 2485)\t1\n",
      "  (0, 3016)\t1\n",
      "  (0, 3786)\t1\n",
      "  (0, 3843)\t1\n",
      "  (0, 3883)\t1\n",
      "  (0, 4696)\t1\n",
      "  (0, 4858)\t1\n",
      "  (0, 5686)\t1\n",
      "  (0, 6445)\t1\n",
      "  (0, 8969)\t1\n",
      "  (0, 9208)\t1\n",
      "  (1, 4664)\t1\n",
      "  (1, 4897)\t1\n",
      "  (1, 6006)\t1\n",
      "  (1, 6038)\t1\n",
      "  (1, 8626)\t1\n",
      "  (1, 9103)\t1\n",
      "  (2, 72)\t1\n",
      "  (2, 416)\t1\n",
      "  (2, 423)\t1\n",
      "  :\t:\n",
      "  (5568, 3558)\t1\n",
      "  (5568, 3805)\t1\n",
      "  (5568, 4185)\t1\n",
      "  (5568, 9523)\t1\n",
      "  (5569, 5576)\t1\n",
      "  (5569, 6371)\t1\n",
      "  (5569, 7626)\t1\n",
      "  (5569, 8002)\t1\n",
      "  (5570, 974)\t1\n",
      "  (5570, 1643)\t1\n",
      "  (5570, 1895)\t1\n",
      "  (5570, 3095)\t1\n",
      "  (5570, 3571)\t1\n",
      "  (5570, 3696)\t1\n",
      "  (5570, 3945)\t1\n",
      "  (5570, 4340)\t1\n",
      "  (5570, 4477)\t1\n",
      "  (5570, 5010)\t1\n",
      "  (5570, 5788)\t1\n",
      "  (5570, 7651)\t1\n",
      "  (5570, 8750)\t1\n",
      "  (5570, 9018)\t1\n",
      "  (5571, 5699)\t1\n",
      "  (5571, 7068)\t1\n",
      "  (5571, 8556)\t1\n"
     ]
    }
   ],
   "source": [
    "print(message_bow)"
   ]
  },
  {
   "cell_type": "code",
   "execution_count": 126,
   "id": "c7684031",
   "metadata": {},
   "outputs": [
    {
     "name": "stdout",
     "output_type": "stream",
     "text": [
      "Shape of the bag of words sparse form is: (5572, 9530)\n"
     ]
    }
   ],
   "source": [
    "print(f\"Shape of the bag of words sparse form is: {message_bow.shape}\")"
   ]
  },
  {
   "cell_type": "code",
   "execution_count": 127,
   "id": "f996e0e8",
   "metadata": {},
   "outputs": [
    {
     "data": {
      "text/plain": [
       "50101"
      ]
     },
     "execution_count": 127,
     "metadata": {},
     "output_type": "execute_result"
    }
   ],
   "source": [
    "# printing the non zero occurences \n",
    "message_bow.nnz"
   ]
  },
  {
   "cell_type": "code",
   "execution_count": null,
   "id": "bc631883",
   "metadata": {},
   "outputs": [],
   "source": []
  },
  {
   "cell_type": "code",
   "execution_count": 128,
   "id": "ce6f5dc3",
   "metadata": {},
   "outputs": [],
   "source": [
    "# NOW REDUCING THE WEIGHT OF THE TRANSFORMED BOW USING THE TFIDF MODULE\n",
    "from sklearn.feature_extraction.text import TfidfTransformer"
   ]
  },
  {
   "cell_type": "code",
   "execution_count": 137,
   "id": "5df210d8",
   "metadata": {},
   "outputs": [],
   "source": [
    "tfidf_transformer = TfidfTransformer().fit(message_bow)"
   ]
  },
  {
   "cell_type": "code",
   "execution_count": 156,
   "id": "dd0550ac",
   "metadata": {},
   "outputs": [],
   "source": [
    "# converting the bow4 we created above to its tfidf equivalent to test\n",
    "bow4_tfidf = tfidf_transformer.transform(bow4)"
   ]
  },
  {
   "cell_type": "code",
   "execution_count": 158,
   "id": "6edab5ad",
   "metadata": {},
   "outputs": [
    {
     "name": "stdout",
     "output_type": "stream",
     "text": [
      "  (0, 8626)\t0.31949158769666564\n",
      "  (0, 7208)\t0.5597000940482765\n",
      "  (0, 4219)\t0.46452762500729494\n",
      "  (0, 3023)\t0.33557436526898854\n",
      "  (0, 3002)\t0.30912546538910485\n",
      "  (0, 1910)\t0.2870370340589675\n",
      "  (0, 1129)\t0.27985004702413824\n"
     ]
    }
   ],
   "source": [
    "print(bow4_tfidf)"
   ]
  },
  {
   "cell_type": "code",
   "execution_count": 143,
   "id": "39773746",
   "metadata": {},
   "outputs": [
    {
     "data": {
      "text/plain": [
       "8.239394426449646"
      ]
     },
     "execution_count": 143,
     "metadata": {},
     "output_type": "execute_result"
    }
   ],
   "source": [
    "# CHECKING THE INVERSE DOCUMENT FREQUENCY OF A PARTICULAR WORD FROM OUR TRANSFORMED BOW\n",
    "tfidf_transformer.idf_[bow_transformer.vocabulary_['university']]"
   ]
  },
  {
   "cell_type": "code",
   "execution_count": 144,
   "id": "78473d9c",
   "metadata": {},
   "outputs": [],
   "source": [
    "# "
   ]
  },
  {
   "cell_type": "code",
   "execution_count": 148,
   "id": "c647b997",
   "metadata": {},
   "outputs": [],
   "source": [
    "# CONVERT THE ENTIRE BAG OF WORDS TO IT EQUIVALENT TFIDF FORM\n",
    "# VECTORIZING THE MESSAGES SO THAT WE CAN TRAIN THEM WITH A MACHINE LEARNING MOEL\n",
    "message_tfidf = tfidf_transformer.transform(message_bow)"
   ]
  },
  {
   "cell_type": "code",
   "execution_count": null,
   "id": "67ac2ca4",
   "metadata": {},
   "outputs": [],
   "source": []
  },
  {
   "cell_type": "markdown",
   "id": "bfcd55c3",
   "metadata": {},
   "source": [
    "<h4>TRAINING THE TRANSFORMED MESAGE ABOVE WITH A CLASSIFIER MODEL</h4>"
   ]
  },
  {
   "cell_type": "code",
   "execution_count": 149,
   "id": "5119a24b",
   "metadata": {},
   "outputs": [],
   "source": [
    "# USONG THE NAIVE BAYES CLASSIFIER MODEL\n",
    "from sklearn.naive_bayes import MultinomialNB"
   ]
  },
  {
   "cell_type": "code",
   "execution_count": 152,
   "id": "fafba413",
   "metadata": {},
   "outputs": [],
   "source": [
    "spam_detect_model = MultinomialNB()"
   ]
  },
  {
   "cell_type": "code",
   "execution_count": 153,
   "id": "316a89a0",
   "metadata": {},
   "outputs": [
    {
     "data": {
      "text/plain": [
       "MultinomialNB()"
      ]
     },
     "execution_count": 153,
     "metadata": {},
     "output_type": "execute_result"
    }
   ],
   "source": [
    "spam_detect_model.fit(message_tfidf, df.label)"
   ]
  },
  {
   "cell_type": "code",
   "execution_count": 160,
   "id": "2d3af4ef",
   "metadata": {},
   "outputs": [
    {
     "data": {
      "text/plain": [
       "'ham'"
      ]
     },
     "execution_count": 160,
     "metadata": {},
     "output_type": "execute_result"
    }
   ],
   "source": [
    "# PREDICTING THE LABEL OF THE TRANSFORMED MESSAGE IN ROW 4 OF OUR DATAFRAME WE CREATED ABOVE (bow4_tfidf)\n",
    "spam_detect_model.predict(bow4_tfidf)[0]"
   ]
  },
  {
   "cell_type": "code",
   "execution_count": null,
   "id": "644f9705",
   "metadata": {},
   "outputs": [],
   "source": []
  },
  {
   "cell_type": "markdown",
   "id": "c6ba217f",
   "metadata": {},
   "source": [
    "<h4>WE ARE GOING TO TRAIN TEST SPLIT OUR DATA</h4>\n",
    "<br>\n",
    "<br>\n",
    "<li>TRAINING MODEL ON ALL THE DATA AND ALSO VALIDATING THE MODEL WITH THE TRAINING DATA MAY NOT TELL HOW ACCURATE THE MOEL IS"
   ]
  },
  {
   "cell_type": "code",
   "execution_count": 161,
   "id": "6e81362d",
   "metadata": {},
   "outputs": [],
   "source": [
    "from sklearn.model_selection import train_test_split"
   ]
  },
  {
   "cell_type": "code",
   "execution_count": 164,
   "id": "bc615c3c",
   "metadata": {},
   "outputs": [],
   "source": [
    "X_train, X_test, y_train, y_test = train_test_split(df['message'], df['label'])"
   ]
  },
  {
   "cell_type": "code",
   "execution_count": null,
   "id": "a5c9ff37",
   "metadata": {},
   "outputs": [],
   "source": []
  },
  {
   "cell_type": "markdown",
   "id": "ca90f50b",
   "metadata": {},
   "source": [
    "<h4>USING PIPELINE TO AUTOMATE OUR PROCESS</h4>\n",
    "pipeline will automate all the proccess we followed previously which are: CountVectorizer, TfidfTransformer and MultinomialNB\n",
    "<br><br>\n",
    "<h6>THE TEXT IS STILL RAW SO WE ARE GOING TO PROCESS IT BY:</h6>\n",
    "<li>removing special characters from the message using string.punctuation\n",
    "<li>remove stop words using nltk stopwords.words('english') method\n",
    "<li>NOTE: this is already implemented in a single function as cdreated above: text_processing(text)"
   ]
  },
  {
   "cell_type": "code",
   "execution_count": 167,
   "id": "8d1540a0",
   "metadata": {},
   "outputs": [],
   "source": [
    "from sklearn.pipeline import Pipeline"
   ]
  },
  {
   "cell_type": "code",
   "execution_count": 168,
   "id": "9d3cc34c",
   "metadata": {},
   "outputs": [],
   "source": [
    "pipeline_input = [('bow', CountVectorizer(analyzer=text_processing)), \n",
    "                  ('tfidf', TfidfTransformer()), \n",
    "                  ('classifier', MultinomialNB())]\n",
    "pipeline = Pipeline(pipeline_input)"
   ]
  },
  {
   "cell_type": "code",
   "execution_count": 169,
   "id": "39d49cb6",
   "metadata": {},
   "outputs": [
    {
     "data": {
      "text/plain": [
       "Pipeline(steps=[('bow',\n",
       "                 CountVectorizer(analyzer=<function text_processing at 0x000002A33D668E50>)),\n",
       "                ('tfidf', TfidfTransformer()),\n",
       "                ('classifier', MultinomialNB())])"
      ]
     },
     "execution_count": 169,
     "metadata": {},
     "output_type": "execute_result"
    }
   ],
   "source": [
    "pipeline.fit(X_train, y_train)"
   ]
  },
  {
   "cell_type": "code",
   "execution_count": null,
   "id": "d672140b",
   "metadata": {},
   "outputs": [],
   "source": []
  },
  {
   "cell_type": "code",
   "execution_count": 170,
   "id": "e816a6b9",
   "metadata": {},
   "outputs": [],
   "source": [
    "# NOW PREDICTING ON TEST SET\n",
    "prediction = pipeline.predict(X_test)"
   ]
  },
  {
   "cell_type": "code",
   "execution_count": null,
   "id": "43f5ad66",
   "metadata": {},
   "outputs": [],
   "source": []
  },
  {
   "cell_type": "markdown",
   "id": "19d345f5",
   "metadata": {},
   "source": [
    "<h4>VALIDATING THE MODEL</h4>"
   ]
  },
  {
   "cell_type": "code",
   "execution_count": 171,
   "id": "e1b8eb92",
   "metadata": {},
   "outputs": [
    {
     "name": "stdout",
     "output_type": "stream",
     "text": [
      "              precision    recall  f1-score   support\n",
      "\n",
      "         ham       0.95      1.00      0.98      1200\n",
      "        spam       1.00      0.70      0.82       193\n",
      "\n",
      "    accuracy                           0.96      1393\n",
      "   macro avg       0.98      0.85      0.90      1393\n",
      "weighted avg       0.96      0.96      0.96      1393\n",
      "\n"
     ]
    }
   ],
   "source": [
    "from sklearn.metrics import classification_report, confusion_matrix\n",
    "print(classification_report(y_test, prediction))"
   ]
  },
  {
   "cell_type": "markdown",
   "id": "d7229e73",
   "metadata": {},
   "source": [
    "the above report shows 96% accuracy of our prediction"
   ]
  },
  {
   "cell_type": "code",
   "execution_count": null,
   "id": "76a9520a",
   "metadata": {},
   "outputs": [],
   "source": []
  }
 ],
 "metadata": {
  "kernelspec": {
   "display_name": "Python 3",
   "language": "python",
   "name": "python3"
  },
  "language_info": {
   "codemirror_mode": {
    "name": "ipython",
    "version": 3
   },
   "file_extension": ".py",
   "mimetype": "text/x-python",
   "name": "python",
   "nbconvert_exporter": "python",
   "pygments_lexer": "ipython3",
   "version": "3.8.8"
  }
 },
 "nbformat": 4,
 "nbformat_minor": 5
}

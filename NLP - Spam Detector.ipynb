{
 "cells": [
  {
   "cell_type": "code",
   "execution_count": 1,
   "id": "1a0771ad",
   "metadata": {},
   "outputs": [],
   "source": [
    "import nltk"
   ]
  },
  {
   "cell_type": "code",
   "execution_count": null,
   "id": "118f5a27",
   "metadata": {},
   "outputs": [],
   "source": []
  },
  {
   "cell_type": "code",
   "execution_count": 2,
   "id": "609890e6",
   "metadata": {},
   "outputs": [],
   "source": [
    "import pandas as pd\n",
    "import numpy as np\n",
    "import matplotlib.pyplot as plt\n",
    "import seaborn as sns"
   ]
  },
  {
   "cell_type": "code",
   "execution_count": 3,
   "id": "f099fc96",
   "metadata": {},
   "outputs": [
    {
     "name": "stdout",
     "output_type": "stream",
     "text": [
      "NLTK Downloader\n",
      "---------------------------------------------------------------------------\n",
      "    d) Download   l) List    u) Update   c) Config   h) Help   q) Quit\n",
      "---------------------------------------------------------------------------\n",
      "Downloader> d\n",
      "\n",
      "Download which package (l=list; x=cancel)?\n",
      "  Identifier> stopwords\n"
     ]
    },
    {
     "name": "stderr",
     "output_type": "stream",
     "text": [
      "    Downloading package stopwords to C:\\Users\\PT\n",
      "        WORLD\\AppData\\Roaming\\nltk_data...\n",
      "      Unzipping corpora\\stopwords.zip.\n"
     ]
    },
    {
     "name": "stdout",
     "output_type": "stream",
     "text": [
      "\n",
      "---------------------------------------------------------------------------\n",
      "    d) Download   l) List    u) Update   c) Config   h) Help   q) Quit\n",
      "---------------------------------------------------------------------------\n",
      "Downloader> q\n"
     ]
    }
   ],
   "source": [
    "# nltk.download_shell()"
   ]
  },
  {
   "cell_type": "code",
   "execution_count": 3,
   "id": "26418b49",
   "metadata": {},
   "outputs": [],
   "source": [
    "from nltk.corpus import stopwords\n",
    "import string"
   ]
  },
  {
   "cell_type": "markdown",
   "id": "bb9eae79",
   "metadata": {},
   "source": [
    "<h2> BUILDING A SPAM DETECTION SYSTEMS WITH PYTHON </h2> "
   ]
  },
  {
   "cell_type": "code",
   "execution_count": null,
   "id": "1a229fa0",
   "metadata": {},
   "outputs": [],
   "source": []
  },
  {
   "cell_type": "markdown",
   "id": "6a2ef012",
   "metadata": {},
   "source": [
    "<h4>LOADING THE DATASET</h4>"
   ]
  },
  {
   "cell_type": "code",
   "execution_count": 14,
   "id": "299d8fc9",
   "metadata": {},
   "outputs": [],
   "source": [
    "messages = [line.rstrip() for line in open('SMSSpamCollection')]"
   ]
  },
  {
   "cell_type": "code",
   "execution_count": 16,
   "id": "2b7a6d24",
   "metadata": {},
   "outputs": [
    {
     "name": "stdout",
     "output_type": "stream",
     "text": [
      "ham\tU dun say so early hor... U c already then say...\n"
     ]
    }
   ],
   "source": [
    "print(messages[3])"
   ]
  },
  {
   "cell_type": "code",
   "execution_count": 13,
   "id": "296db50e",
   "metadata": {},
   "outputs": [
    {
     "data": {
      "text/plain": [
       "5574"
      ]
     },
     "execution_count": 13,
     "metadata": {},
     "output_type": "execute_result"
    }
   ],
   "source": [
    "len(messages)"
   ]
  },
  {
   "cell_type": "code",
   "execution_count": null,
   "id": "af4e22af",
   "metadata": {},
   "outputs": [],
   "source": []
  },
  {
   "cell_type": "code",
   "execution_count": 4,
   "id": "dd259729",
   "metadata": {},
   "outputs": [],
   "source": [
    "# creating a dataframe for the label and message of 'SMSSpamCollection' file\n",
    "df = pd.read_csv('SMSSpamCollection', sep='\\t', names=['label', 'message'])"
   ]
  },
  {
   "cell_type": "code",
   "execution_count": 5,
   "id": "2f4a338b",
   "metadata": {},
   "outputs": [
    {
     "data": {
      "text/html": [
       "<div>\n",
       "<style scoped>\n",
       "    .dataframe tbody tr th:only-of-type {\n",
       "        vertical-align: middle;\n",
       "    }\n",
       "\n",
       "    .dataframe tbody tr th {\n",
       "        vertical-align: top;\n",
       "    }\n",
       "\n",
       "    .dataframe thead th {\n",
       "        text-align: right;\n",
       "    }\n",
       "</style>\n",
       "<table border=\"1\" class=\"dataframe\">\n",
       "  <thead>\n",
       "    <tr style=\"text-align: right;\">\n",
       "      <th></th>\n",
       "      <th>label</th>\n",
       "      <th>message</th>\n",
       "    </tr>\n",
       "  </thead>\n",
       "  <tbody>\n",
       "    <tr>\n",
       "      <th>0</th>\n",
       "      <td>ham</td>\n",
       "      <td>Go until jurong point, crazy.. Available only ...</td>\n",
       "    </tr>\n",
       "    <tr>\n",
       "      <th>1</th>\n",
       "      <td>ham</td>\n",
       "      <td>Ok lar... Joking wif u oni...</td>\n",
       "    </tr>\n",
       "    <tr>\n",
       "      <th>2</th>\n",
       "      <td>spam</td>\n",
       "      <td>Free entry in 2 a wkly comp to win FA Cup fina...</td>\n",
       "    </tr>\n",
       "    <tr>\n",
       "      <th>3</th>\n",
       "      <td>ham</td>\n",
       "      <td>U dun say so early hor... U c already then say...</td>\n",
       "    </tr>\n",
       "    <tr>\n",
       "      <th>4</th>\n",
       "      <td>ham</td>\n",
       "      <td>Nah I don't think he goes to usf, he lives aro...</td>\n",
       "    </tr>\n",
       "  </tbody>\n",
       "</table>\n",
       "</div>"
      ],
      "text/plain": [
       "  label                                            message\n",
       "0   ham  Go until jurong point, crazy.. Available only ...\n",
       "1   ham                      Ok lar... Joking wif u oni...\n",
       "2  spam  Free entry in 2 a wkly comp to win FA Cup fina...\n",
       "3   ham  U dun say so early hor... U c already then say...\n",
       "4   ham  Nah I don't think he goes to usf, he lives aro..."
      ]
     },
     "execution_count": 5,
     "metadata": {},
     "output_type": "execute_result"
    }
   ],
   "source": [
    "df.head()"
   ]
  },
  {
   "cell_type": "markdown",
   "id": "bdf04268",
   "metadata": {},
   "source": [
    "<h4>EXPLORING THE DATA SET</h4>"
   ]
  },
  {
   "cell_type": "code",
   "execution_count": 26,
   "id": "8391e04a",
   "metadata": {},
   "outputs": [
    {
     "data": {
      "text/plain": [
       "label                                ham\n",
       "message    Ok lar... Joking wif u oni...\n",
       "Name: 1, dtype: object"
      ]
     },
     "execution_count": 26,
     "metadata": {},
     "output_type": "execute_result"
    }
   ],
   "source": [
    "# grab the first row\n",
    "df.loc[1, :]"
   ]
  },
  {
   "cell_type": "code",
   "execution_count": 30,
   "id": "31f11df0",
   "metadata": {},
   "outputs": [
    {
     "data": {
      "text/html": [
       "<div>\n",
       "<style scoped>\n",
       "    .dataframe tbody tr th:only-of-type {\n",
       "        vertical-align: middle;\n",
       "    }\n",
       "\n",
       "    .dataframe tbody tr th {\n",
       "        vertical-align: top;\n",
       "    }\n",
       "\n",
       "    .dataframe thead tr th {\n",
       "        text-align: left;\n",
       "    }\n",
       "\n",
       "    .dataframe thead tr:last-of-type th {\n",
       "        text-align: right;\n",
       "    }\n",
       "</style>\n",
       "<table border=\"1\" class=\"dataframe\">\n",
       "  <thead>\n",
       "    <tr>\n",
       "      <th></th>\n",
       "      <th colspan=\"4\" halign=\"left\">message</th>\n",
       "    </tr>\n",
       "    <tr>\n",
       "      <th></th>\n",
       "      <th>count</th>\n",
       "      <th>unique</th>\n",
       "      <th>top</th>\n",
       "      <th>freq</th>\n",
       "    </tr>\n",
       "    <tr>\n",
       "      <th>label</th>\n",
       "      <th></th>\n",
       "      <th></th>\n",
       "      <th></th>\n",
       "      <th></th>\n",
       "    </tr>\n",
       "  </thead>\n",
       "  <tbody>\n",
       "    <tr>\n",
       "      <th>ham</th>\n",
       "      <td>4825</td>\n",
       "      <td>4516</td>\n",
       "      <td>Sorry, I'll call later</td>\n",
       "      <td>30</td>\n",
       "    </tr>\n",
       "    <tr>\n",
       "      <th>spam</th>\n",
       "      <td>747</td>\n",
       "      <td>653</td>\n",
       "      <td>Please call our customer service representativ...</td>\n",
       "      <td>4</td>\n",
       "    </tr>\n",
       "  </tbody>\n",
       "</table>\n",
       "</div>"
      ],
      "text/plain": [
       "      message                                                               \n",
       "        count unique                                                top freq\n",
       "label                                                                       \n",
       "ham      4825   4516                             Sorry, I'll call later   30\n",
       "spam      747    653  Please call our customer service representativ...    4"
      ]
     },
     "execution_count": 30,
     "metadata": {},
     "output_type": "execute_result"
    }
   ],
   "source": [
    "# examining the dataset\n",
    "df.groupby('label').describe()"
   ]
  },
  {
   "cell_type": "code",
   "execution_count": null,
   "id": "d868fa74",
   "metadata": {},
   "outputs": [],
   "source": []
  },
  {
   "cell_type": "code",
   "execution_count": 6,
   "id": "cca551f9",
   "metadata": {},
   "outputs": [],
   "source": [
    "# checking for the length of each messages\n",
    "\n",
    "df['length'] = df.message.apply(len)"
   ]
  },
  {
   "cell_type": "code",
   "execution_count": 7,
   "id": "e483652b",
   "metadata": {},
   "outputs": [
    {
     "data": {
      "text/html": [
       "<div>\n",
       "<style scoped>\n",
       "    .dataframe tbody tr th:only-of-type {\n",
       "        vertical-align: middle;\n",
       "    }\n",
       "\n",
       "    .dataframe tbody tr th {\n",
       "        vertical-align: top;\n",
       "    }\n",
       "\n",
       "    .dataframe thead th {\n",
       "        text-align: right;\n",
       "    }\n",
       "</style>\n",
       "<table border=\"1\" class=\"dataframe\">\n",
       "  <thead>\n",
       "    <tr style=\"text-align: right;\">\n",
       "      <th></th>\n",
       "      <th>label</th>\n",
       "      <th>message</th>\n",
       "      <th>length</th>\n",
       "    </tr>\n",
       "  </thead>\n",
       "  <tbody>\n",
       "    <tr>\n",
       "      <th>0</th>\n",
       "      <td>ham</td>\n",
       "      <td>Go until jurong point, crazy.. Available only ...</td>\n",
       "      <td>111</td>\n",
       "    </tr>\n",
       "    <tr>\n",
       "      <th>1</th>\n",
       "      <td>ham</td>\n",
       "      <td>Ok lar... Joking wif u oni...</td>\n",
       "      <td>29</td>\n",
       "    </tr>\n",
       "    <tr>\n",
       "      <th>2</th>\n",
       "      <td>spam</td>\n",
       "      <td>Free entry in 2 a wkly comp to win FA Cup fina...</td>\n",
       "      <td>155</td>\n",
       "    </tr>\n",
       "    <tr>\n",
       "      <th>3</th>\n",
       "      <td>ham</td>\n",
       "      <td>U dun say so early hor... U c already then say...</td>\n",
       "      <td>49</td>\n",
       "    </tr>\n",
       "    <tr>\n",
       "      <th>4</th>\n",
       "      <td>ham</td>\n",
       "      <td>Nah I don't think he goes to usf, he lives aro...</td>\n",
       "      <td>61</td>\n",
       "    </tr>\n",
       "  </tbody>\n",
       "</table>\n",
       "</div>"
      ],
      "text/plain": [
       "  label                                            message  length\n",
       "0   ham  Go until jurong point, crazy.. Available only ...     111\n",
       "1   ham                      Ok lar... Joking wif u oni...      29\n",
       "2  spam  Free entry in 2 a wkly comp to win FA Cup fina...     155\n",
       "3   ham  U dun say so early hor... U c already then say...      49\n",
       "4   ham  Nah I don't think he goes to usf, he lives aro...      61"
      ]
     },
     "execution_count": 7,
     "metadata": {},
     "output_type": "execute_result"
    }
   ],
   "source": [
    "df.head()"
   ]
  },
  {
   "cell_type": "code",
   "execution_count": 40,
   "id": "d1d7419e",
   "metadata": {},
   "outputs": [
    {
     "data": {
      "text/plain": [
       "5169"
      ]
     },
     "execution_count": 40,
     "metadata": {},
     "output_type": "execute_result"
    }
   ],
   "source": [
    "df.message.nunique()"
   ]
  },
  {
   "cell_type": "code",
   "execution_count": 41,
   "id": "a1d8428d",
   "metadata": {},
   "outputs": [
    {
     "data": {
      "text/plain": [
       "Sorry, I'll call later                                                                                                                                                                 30\n",
       "I cant pick the phone right now. Pls send a message                                                                                                                                    12\n",
       "Ok...                                                                                                                                                                                  10\n",
       "Say this slowly.? GOD,I LOVE YOU &amp; I NEED YOU,CLEAN MY HEART WITH YOUR BLOOD.Send this to Ten special people &amp; u c miracle tomorrow, do it,pls,pls do it...                     4\n",
       "Wen ur lovable bcums angry wid u, dnt take it seriously.. Coz being angry is d most childish n true way of showing deep affection, care n luv!.. kettoda manda... Have nice day da.     4\n",
       "Name: message, dtype: int64"
      ]
     },
     "execution_count": 41,
     "metadata": {},
     "output_type": "execute_result"
    }
   ],
   "source": [
    "df.message.value_counts().head()"
   ]
  },
  {
   "cell_type": "code",
   "execution_count": null,
   "id": "09437165",
   "metadata": {},
   "outputs": [],
   "source": []
  },
  {
   "cell_type": "code",
   "execution_count": 48,
   "id": "28c0860d",
   "metadata": {},
   "outputs": [
    {
     "data": {
      "text/plain": [
       "<AxesSubplot:ylabel='Frequency'>"
      ]
     },
     "execution_count": 48,
     "metadata": {},
     "output_type": "execute_result"
    },
    {
     "data": {
      "image/png": "[encoded data removed]",
      "text/plain": [
       "<Figure size 432x288 with 1 Axes>"
      ]
     },
     "metadata": {
      "needs_background": "light"
     },
     "output_type": "display_data"
    }
   ],
   "source": [
    "# visualising the length of each messags on hist plot\n",
    "df.length.plot(kind='hist', bins=100)"
   ]
  },
  {
   "cell_type": "code",
   "execution_count": 47,
   "id": "0ad9a806",
   "metadata": {},
   "outputs": [
    {
     "data": {
      "text/plain": [
       "<AxesSubplot:xlabel='length', ylabel='Count'>"
      ]
     },
     "execution_count": 47,
     "metadata": {},
     "output_type": "execute_result"
    },
    {
     "data": {
      "image/png": "[encoded data removed]",
      "text/plain": [
       "<Figure size 432x288 with 1 Axes>"
      ]
     },
     "metadata": {
      "needs_background": "light"
     },
     "output_type": "display_data"
    }
   ],
   "source": [
    "# visualization using seaborn\n",
    "sns.histplot(df.length, bins=100)"
   ]
  },
  {
   "cell_type": "code",
   "execution_count": null,
   "id": "225b9553",
   "metadata": {},
   "outputs": [],
   "source": []
  },
  {
   "cell_type": "code",
   "execution_count": 49,
   "id": "e4938b7e",
   "metadata": {},
   "outputs": [
    {
     "data": {
      "text/plain": [
       "count    5572.000000\n",
       "mean       80.489950\n",
       "std        59.942907\n",
       "min         2.000000\n",
       "25%        36.000000\n",
       "50%        62.000000\n",
       "75%       122.000000\n",
       "max       910.000000\n",
       "Name: length, dtype: float64"
      ]
     },
     "execution_count": 49,
     "metadata": {},
     "output_type": "execute_result"
    }
   ],
   "source": [
    "# the histogram shows there is an outlier. seeing the table \n",
    "df.length.describe()"
   ]
  },
  {
   "cell_type": "code",
   "execution_count": null,
   "id": "4b9f2ddb",
   "metadata": {},
   "outputs": [],
   "source": []
  },
  {
   "cell_type": "markdown",
   "id": "fef32d3f",
   "metadata": {},
   "source": [
    "<h4>PREPROCESSING STRINGS</h4>"
   ]
  },
  {
   "cell_type": "code",
   "execution_count": 100,
   "id": "357586d0",
   "metadata": {},
   "outputs": [],
   "source": [
    "# USING THE STRING METHOD"
   ]
  },
  {
   "cell_type": "code",
   "execution_count": 52,
   "id": "5f7f2a25",
   "metadata": {},
   "outputs": [],
   "source": [
    "dummy_text = \"Sample message! Notice: it has punctuation.\""
   ]
  },
  {
   "cell_type": "code",
   "execution_count": 53,
   "id": "1dcd77e8",
   "metadata": {},
   "outputs": [
    {
     "data": {
      "text/plain": [
       "'!\"#$%&\\'()*+,-./:;<=>?@[\\\\]^_`{|}~'"
      ]
     },
     "execution_count": 53,
     "metadata": {},
     "output_type": "execute_result"
    }
   ],
   "source": [
    "# visualising the possible punctuations in the string library\n",
    "string.punctuation"
   ]
  },
  {
   "cell_type": "code",
   "execution_count": 58,
   "id": "de68d4c3",
   "metadata": {},
   "outputs": [
    {
     "data": {
      "text/plain": [
       "['S',\n",
       " 'a',\n",
       " 'm',\n",
       " 'p',\n",
       " 'l',\n",
       " 'e',\n",
       " ' ',\n",
       " 'm',\n",
       " 'e',\n",
       " 's',\n",
       " 's',\n",
       " 'a',\n",
       " 'g',\n",
       " 'e',\n",
       " ' ',\n",
       " 'N',\n",
       " 'o',\n",
       " 't',\n",
       " 'i',\n",
       " 'c',\n",
       " 'e',\n",
       " ' ',\n",
       " 'i',\n",
       " 't',\n",
       " ' ',\n",
       " 'h',\n",
       " 'a',\n",
       " 's',\n",
       " ' ',\n",
       " 'p',\n",
       " 'u',\n",
       " 'n',\n",
       " 'c',\n",
       " 't',\n",
       " 'u',\n",
       " 'a',\n",
       " 't',\n",
       " 'i',\n",
       " 'o',\n",
       " 'n']"
      ]
     },
     "execution_count": 58,
     "metadata": {},
     "output_type": "execute_result"
    }
   ],
   "source": [
    "# removing punctuations from the dummy_text punctuation\n",
    "no_punc = [c for c in dummy_text if c not in string.punctuation]\n",
    "no_punc"
   ]
  },
  {
   "cell_type": "code",
   "execution_count": null,
   "id": "3eecd2f2",
   "metadata": {},
   "outputs": [],
   "source": []
  },
  {
   "cell_type": "code",
   "execution_count": 63,
   "id": "66b20e27",
   "metadata": {},
   "outputs": [
    {
     "data": {
      "text/plain": [
       "'Sample message Notice it has punctuation'"
      ]
     },
     "execution_count": 63,
     "metadata": {},
     "output_type": "execute_result"
    }
   ],
   "source": [
    "''.join(no_punc)"
   ]
  },
  {
   "cell_type": "code",
   "execution_count": 64,
   "id": "e2c9339d",
   "metadata": {},
   "outputs": [
    {
     "data": {
      "text/plain": [
       "'Sample message Notice it has punctuation'"
      ]
     },
     "execution_count": 64,
     "metadata": {},
     "output_type": "execute_result"
    }
   ],
   "source": [
    "no_punc = ''.join(no_punc)\n",
    "no_punc"
   ]
  },
  {
   "cell_type": "code",
   "execution_count": null,
   "id": "680ae06c",
   "metadata": {},
   "outputs": [],
   "source": []
  },
  {
   "cell_type": "code",
   "execution_count": 65,
   "id": "f6fc7a1a",
   "metadata": {},
   "outputs": [],
   "source": [
    "# USING THE STOPWORDS METHOD FROM THE NLTK MODULE"
   ]
  },
  {
   "cell_type": "code",
   "execution_count": 74,
   "id": "fdd5acaf",
   "metadata": {},
   "outputs": [
    {
     "data": {
      "text/plain": [
       "['i', 'me', 'my', 'myself', 'we', 'our', 'ours', 'ourselves', 'you', \"you're\"]"
      ]
     },
     "execution_count": 74,
     "metadata": {},
     "output_type": "execute_result"
    }
   ],
   "source": [
    "stopwords.words('english')[:10]"
   ]
  },
  {
   "cell_type": "code",
   "execution_count": 71,
   "id": "c22c68e3",
   "metadata": {},
   "outputs": [],
   "source": [
    "cleaned_no_punc = [c for c in no_punc.split() if c not in stopwords.words('english')]"
   ]
  },
  {
   "cell_type": "code",
   "execution_count": 72,
   "id": "99f59432",
   "metadata": {},
   "outputs": [
    {
     "data": {
      "text/plain": [
       "['Sample', 'message', 'Notice', 'punctuation']"
      ]
     },
     "execution_count": 72,
     "metadata": {},
     "output_type": "execute_result"
    }
   ],
   "source": [
    "cleaned_no_punc"
   ]
  },
  {
   "cell_type": "code",
   "execution_count": null,
   "id": "c1ac28d6",
   "metadata": {},
   "outputs": [],
   "source": []
  },
  {
   "cell_type": "code",
   "execution_count": 8,
   "id": "911f8e9c",
   "metadata": {},
   "outputs": [],
   "source": [
    "# function that repeats the previous output of the cleaned_no_punc\n",
    "def text_processing(text):\n",
    "    \"\"\"\n",
    "    1) remove punctuation\n",
    "    2) remove stop words\n",
    "    3) return cleaned text without punctuation and stopwords \n",
    "    --> this returned cleaned text is a list of the words we want and this is called tokenization\n",
    "    --> where each word is the token\n",
    "    \"\"\"\n",
    "    no_punc = [c for c in text if c not in string.punctuation]\n",
    "    no_punc = ''.join(no_punc)\n",
    "    cleaned_no_punc = [char for char in no_punc.lower().split() if char not in stopwords.words('english')]\n",
    "    return cleaned_no_punc"
   ]
  },
  {
   "cell_type": "code",
   "execution_count": 9,
   "id": "c6735bfb",
   "metadata": {},
   "outputs": [
    {
     "data": {
      "text/plain": [
       "['hello', 'world', 'still', 'talk', 'ade']"
      ]
     },
     "execution_count": 9,
     "metadata": {},
     "output_type": "execute_result"
    }
   ],
   "source": [
    "text_processing('hello world! i still talk about ade and i')"
   ]
  },
  {
   "cell_type": "code",
   "execution_count": null,
   "id": "1235e34f",
   "metadata": {},
   "outputs": [],
   "source": []
  },
  {
   "cell_type": "code",
   "execution_count": 10,
   "id": "a31de5ad",
   "metadata": {},
   "outputs": [
    {
     "data": {
      "text/plain": [
       "0    [go, jurong, point, crazy, available, bugis, n...\n",
       "1                       [ok, lar, joking, wif, u, oni]\n",
       "2    [free, entry, 2, wkly, comp, win, fa, cup, fin...\n",
       "3        [u, dun, say, early, hor, u, c, already, say]\n",
       "4    [nah, dont, think, goes, usf, lives, around, t...\n",
       "Name: message, dtype: object"
      ]
     },
     "execution_count": 10,
     "metadata": {},
     "output_type": "execute_result"
    }
   ],
   "source": [
    "df.message.head().apply(text_processing)"
   ]
  },
  {
   "cell_type": "code",
   "execution_count": null,
   "id": "6a2fa620",
   "metadata": {},
   "outputs": [],
   "source": []
  },
  {
   "cell_type": "markdown",
   "id": "46addb74",
   "metadata": {},
   "source": [
    "<h4>VECTORIZING OUR TEXT USING BAG OF WORDS MODEL FOR MACHINE LEARNING TO UNDERSTAND IT</h4>\n",
    "EACH DOCUMENT WILL HAVE AS MANY DIMENSIONS AS THERE ARE UNIQUE WORDS IN THE SMS CORPUS\n",
    "<br>\n",
    "<br>\n",
    "<li>COUNT HOW MANYTIMES A WORD OCCOURS IN EACH MESSAGE (KNOWN AS TERM FREQUENCY)\n",
    "<li>WEIGH THE COUNT SO THAT FREQUENT TOKENS GET THE LOWER WEIGHT (INVERSE DOCUMENT FREQUENCY)\n",
    "<li>NORMALIZE THE VECTOR TO UNIT LENGHT, TO ABSTRACT FROM THE ORIGINAL TEXT LENGHT (L2 norm)\n",
    "<br>\n",
    "<br>\n",
    "<li>CONVERT A COLLECTION OF TEXT DOCUMENT TO MATRIX OF TOKEN COUNT (BAG OF WORDS)\n",
    "<li>CHECK FOR THE COUNT OF SPECIFIC WORDS IN EACH MESSAGES IN OUR DATA SET\n",
    "<li>COLUMN: REP EACH MESSAGES (DOCUMENT)\n",
    "<li>ROW: EACH UNIQUE WORDS \n",
    "<li>WE CAN VISUALISE THE TABLE OF WORD COUNT AS SHOWN BELOW IF FOR INSTACNE WE HAVE 3 MESSAGES IN OUR DATA:\n",
    "<br>\n",
    "<table>\n",
    "    <tr>\n",
    "        <th>Row No</th>\n",
    "        <th>Message 1</th>\n",
    "        <th>Message 2</th>\n",
    "        <th>Message 3</th>\n",
    "    <tr>\n",
    "    <tr>\n",
    "        <td>word1</td>\n",
    "        <td>0</td>\n",
    "        <td>2</td>\n",
    "        <td>0</td>\n",
    "    <tr>\n",
    "    <tr>\n",
    "        <td>word 2</td>\n",
    "        <td>0</td>\n",
    "        <td>5</td>\n",
    "        <td>1</td>\n",
    "    <tr>\n",
    "    <tr>\n",
    "        <td>.\n",
    "            .\n",
    "            .</td>\n",
    "        <td>.\n",
    "            .\n",
    "            .</td>\n",
    "        <td>.\n",
    "            .\n",
    "            .</td>\n",
    "        <td>.\n",
    "            .\n",
    "            .</td>\n",
    "    <tr>\n",
    "</table>\n",
    "<br>\n",
    "<br>   \n",
    "<li>BECAUSE THERE WILL BE TOO MANY WORDS WITH ZEROS(0) COUNTS IN A MESSAGE (DOCUMENT), SKLEARN IS GOING TO RETURN SPARSE MATRIX\n",
    "<br>\n",
    "<br> \n",
    "        \n",
    " "
   ]
  },
  {
   "cell_type": "code",
   "execution_count": 11,
   "id": "4a21347a",
   "metadata": {},
   "outputs": [],
   "source": [
    "from sklearn.feature_extraction.text import CountVectorizer"
   ]
  },
  {
   "cell_type": "code",
   "execution_count": 12,
   "id": "27d99204",
   "metadata": {},
   "outputs": [],
   "source": [
    "# bow - Bag of Words\n",
    "bow_transformer = CountVectorizer(analyzer=text_processing).fit(df.message)"
   ]
  },
  {
   "cell_type": "code",
   "execution_count": 13,
   "id": "14e77b32",
   "metadata": {},
   "outputs": [
    {
     "data": {
      "text/plain": [
       "9530"
      ]
     },
     "execution_count": 13,
     "metadata": {},
     "output_type": "execute_result"
    }
   ],
   "source": [
    "# vocabulary list of unique tokens in our bag of words\n",
    "len(bow_transformer.vocabulary_)"
   ]
  },
  {
   "cell_type": "code",
   "execution_count": 20,
   "id": "39050f19",
   "metadata": {},
   "outputs": [
    {
     "data": {
      "text/plain": [
       "{'go': 3786,\n",
       " 'jurong': 4696,\n",
       " 'point': 6445,\n",
       " 'crazy': 2485,\n",
       " 'available': 1389,\n",
       " 'bugis': 1860,\n",
       " 'n': 5686,\n",
       " 'great': 3883,\n",
       " 'world': 9208,\n",
       " 'la': 4858,\n",
       " 'e': 3016,\n",
       " 'buffet': 1858,\n",
       " 'cine': 2200,\n",
       " 'got': 3843,\n",
       " 'amore': 1156,\n",
       " 'wat': 8969,\n",
       " 'ok': 6006,\n",
       " 'lar': 4897,\n",
       " 'joking': 4664,\n",
       " 'wif': 9103,\n",
       " 'u': 8626,\n",
       " 'oni': 6038,\n",
       " 'free': 3571,\n",
       " 'entry': 3152,\n",
       " '2': 416,\n",
       " 'wkly': 9160,\n",
       " 'comp': 2316,\n",
       " 'win': 9117,\n",
       " 'fa': 3290,\n",
       " 'cup': 2541,\n",
       " 'final': 3415,\n",
       " 'tkts': 8398,\n",
       " '21st': 436,\n",
       " 'may': 5345,\n",
       " '2005': 423,\n",
       " 'text': 8233,\n",
       " '87121': 849,\n",
       " 'receive': 6848,\n",
       " 'questionstd': 6738,\n",
       " 'txt': 8610,\n",
       " 'ratetcs': 6791,\n",
       " 'apply': 1242,\n",
       " '08452810075over18s': 72,\n",
       " 'dun': 3002,\n",
       " 'say': 7208,\n",
       " 'early': 3023,\n",
       " 'hor': 4219,\n",
       " 'c': 1910,\n",
       " 'already': 1129,\n",
       " 'nah': 5693,\n",
       " 'dont': 2907,\n",
       " 'think': 8309,\n",
       " 'goes': 3800,\n",
       " 'usf': 8760,\n",
       " 'lives': 5060,\n",
       " 'around': 1293,\n",
       " 'though': 8328,\n",
       " 'freemsg': 3579,\n",
       " 'hey': 4114,\n",
       " 'darling': 2605,\n",
       " '3': 527,\n",
       " 'weeks': 9023,\n",
       " 'word': 9194,\n",
       " 'back': 1442,\n",
       " 'id': 4340,\n",
       " 'like': 5010,\n",
       " 'fun': 3646,\n",
       " 'still': 7875,\n",
       " 'tb': 8163,\n",
       " 'xxx': 9334,\n",
       " 'std': 7850,\n",
       " 'chgs': 2145,\n",
       " 'send': 7303,\n",
       " '£150': 9478,\n",
       " 'rcv': 6803,\n",
       " 'even': 3199,\n",
       " 'brother': 1826,\n",
       " 'speak': 7721,\n",
       " 'treat': 8535,\n",
       " 'aids': 1075,\n",
       " 'patent': 6238,\n",
       " 'per': 6280,\n",
       " 'request': 6961,\n",
       " 'melle': 5388,\n",
       " 'oru': 6102,\n",
       " 'minnaminunginte': 5471,\n",
       " 'nurungu': 5933,\n",
       " 'vettam': 8825,\n",
       " 'set': 7332,\n",
       " 'callertune': 1946,\n",
       " 'callers': 1945,\n",
       " 'press': 6575,\n",
       " '9': 887,\n",
       " 'copy': 2421,\n",
       " 'friends': 3604,\n",
       " 'winner': 9128,\n",
       " 'valued': 8796,\n",
       " 'network': 5769,\n",
       " 'customer': 2554,\n",
       " 'selected': 7289,\n",
       " 'receivea': 6849,\n",
       " '£900': 9519,\n",
       " 'prize': 6609,\n",
       " 'reward': 7020,\n",
       " 'claim': 2206,\n",
       " 'call': 1927,\n",
       " '09061701461': 218,\n",
       " 'code': 2267,\n",
       " 'kl341': 4813,\n",
       " 'valid': 8792,\n",
       " '12': 324,\n",
       " 'hours': 4238,\n",
       " 'mobile': 5530,\n",
       " '11': 313,\n",
       " 'months': 5575,\n",
       " 'r': 6752,\n",
       " 'entitled': 3149,\n",
       " 'update': 8715,\n",
       " 'latest': 4914,\n",
       " 'colour': 2290,\n",
       " 'mobiles': 5531,\n",
       " 'camera': 1963,\n",
       " 'co': 2256,\n",
       " '08002986030': 57,\n",
       " 'im': 4370,\n",
       " 'gonna': 3817,\n",
       " 'home': 4185,\n",
       " 'soon': 7671,\n",
       " 'want': 8948,\n",
       " 'talk': 8129,\n",
       " 'stuff': 7949,\n",
       " 'anymore': 1209,\n",
       " 'tonight': 8457,\n",
       " 'k': 4703,\n",
       " 'ive': 4568,\n",
       " 'cried': 2502,\n",
       " 'enough': 3140,\n",
       " 'today': 8415,\n",
       " 'six': 7523,\n",
       " 'chances': 2082,\n",
       " 'cash': 2025,\n",
       " '100': 293,\n",
       " '20000': 420,\n",
       " 'pounds': 6512,\n",
       " 'csh11': 2519,\n",
       " '87575': 853,\n",
       " 'cost': 2434,\n",
       " '150pday': 352,\n",
       " '6days': 736,\n",
       " '16': 376,\n",
       " 'tsandcs': 8570,\n",
       " 'reply': 6953,\n",
       " 'hl': 4151,\n",
       " '4': 587,\n",
       " 'info': 4433,\n",
       " 'urgent': 8738,\n",
       " '1': 291,\n",
       " 'week': 9018,\n",
       " 'membership': 5394,\n",
       " '£100000': 9472,\n",
       " 'jackpot': 4586,\n",
       " '81010': 799,\n",
       " 'tc': 8165,\n",
       " 'wwwdbuknet': 9277,\n",
       " 'lccltd': 4932,\n",
       " 'pobox': 6424,\n",
       " '4403ldnw1a7rw18': 608,\n",
       " 'searching': 7256,\n",
       " 'right': 7032,\n",
       " 'words': 9197,\n",
       " 'thank': 8251,\n",
       " 'breather': 1795,\n",
       " 'promise': 6648,\n",
       " 'wont': 9185,\n",
       " 'take': 8120,\n",
       " 'help': 4082,\n",
       " 'granted': 3872,\n",
       " 'fulfil': 3642,\n",
       " 'wonderful': 9182,\n",
       " 'blessing': 1666,\n",
       " 'times': 8373,\n",
       " 'date': 2614,\n",
       " 'sunday': 8017,\n",
       " 'xxxmobilemovieclub': 9335,\n",
       " 'use': 8754,\n",
       " 'credit': 2492,\n",
       " 'click': 2228,\n",
       " 'wap': 8953,\n",
       " 'link': 5033,\n",
       " 'next': 5788,\n",
       " 'message': 5419,\n",
       " 'httpwap': 4268,\n",
       " 'xxxmobilemovieclubcomnqjkgighjjgcbl': 9336,\n",
       " 'oh': 5999,\n",
       " 'kim': 4780,\n",
       " 'watching': 8974,\n",
       " 'eh': 3073,\n",
       " 'remember': 6920,\n",
       " 'spell': 7737,\n",
       " 'name': 5699,\n",
       " 'yes': 9374,\n",
       " 'v': 8784,\n",
       " 'naughty': 5725,\n",
       " 'make': 5263,\n",
       " 'wet': 9060,\n",
       " 'fine': 3423,\n",
       " 'that\\x92s': 8269,\n",
       " 'way': 8985,\n",
       " 'feel': 3367,\n",
       " 'gota': 3844,\n",
       " 'b': 1421,\n",
       " 'england': 3131,\n",
       " 'macedonia': 5225,\n",
       " 'miss': 5490,\n",
       " 'goalsteam': 3792,\n",
       " 'news': 5783,\n",
       " 'ur': 8735,\n",
       " 'national': 5718,\n",
       " 'team': 8179,\n",
       " '87077': 848,\n",
       " 'eg': 3064,\n",
       " 'trywales': 8568,\n",
       " 'scotland': 7235,\n",
       " '4txtú120': 655,\n",
       " 'poboxox36504w45wq': 6436,\n",
       " 'seriously': 7325,\n",
       " 'i‘m': 4578,\n",
       " 'going': 3805,\n",
       " 'try': 8565,\n",
       " 'ha': 3955,\n",
       " 'ü': 9523,\n",
       " 'pay': 6249,\n",
       " 'first': 3443,\n",
       " 'da': 2570,\n",
       " 'stock': 7879,\n",
       " 'comin': 2306,\n",
       " 'aft': 1037,\n",
       " 'finish': 3429,\n",
       " 'lunch': 5191,\n",
       " 'str': 7906,\n",
       " 'lor': 5116,\n",
       " 'ard': 1269,\n",
       " 'smth': 7609,\n",
       " 'ffffffffff': 3385,\n",
       " 'alright': 1131,\n",
       " 'meet': 5373,\n",
       " 'sooner': 7673,\n",
       " 'forced': 3521,\n",
       " 'eat': 3036,\n",
       " 'slice': 7558,\n",
       " 'really': 6828,\n",
       " 'hungry': 4296,\n",
       " 'tho': 8324,\n",
       " 'sucks': 7987,\n",
       " 'mark': 5299,\n",
       " 'getting': 3745,\n",
       " 'worried': 9214,\n",
       " 'knows': 4825,\n",
       " 'sick': 7466,\n",
       " 'turn': 8591,\n",
       " 'pizza': 6374,\n",
       " 'lol': 5093,\n",
       " 'always': 1141,\n",
       " 'convincing': 2407,\n",
       " 'catch': 2037,\n",
       " 'bus': 1880,\n",
       " 'frying': 3630,\n",
       " 'egg': 3068,\n",
       " 'tea': 8173,\n",
       " 'eating': 3039,\n",
       " 'moms': 5554,\n",
       " 'left': 4954,\n",
       " 'dinner': 2814,\n",
       " 'love': 5142,\n",
       " 'amp': 1158,\n",
       " 'packing': 6161,\n",
       " 'car': 1991,\n",
       " 'ill': 4366,\n",
       " 'let': 4977,\n",
       " 'know': 4820,\n",
       " 'theres': 8294,\n",
       " 'room': 7078,\n",
       " 'ahhh': 1066,\n",
       " 'work': 9200,\n",
       " 'vaguely': 8787,\n",
       " 'wait': 8918,\n",
       " 'thats': 8268,\n",
       " 'clear': 2222,\n",
       " 'sure': 8045,\n",
       " 'sarcastic': 7182,\n",
       " 'x': 9314,\n",
       " 'doesnt': 2878,\n",
       " 'live': 5056,\n",
       " 'us': 8750,\n",
       " 'yeah': 9361,\n",
       " 'apologetic': 1230,\n",
       " 'fallen': 3317,\n",
       " 'actin': 975,\n",
       " 'spoilt': 7765,\n",
       " 'child': 2161,\n",
       " 'caught': 2041,\n",
       " 'till': 8367,\n",
       " 'badly': 1448,\n",
       " 'cheers': 2127,\n",
       " 'tell': 8198,\n",
       " 'anything': 1215,\n",
       " 'fear': 3359,\n",
       " 'fainting': 3307,\n",
       " 'housework': 4243,\n",
       " 'quick': 6739,\n",
       " 'cuppa': 2543,\n",
       " 'thanks': 8252,\n",
       " 'subscription': 7976,\n",
       " 'ringtone': 7041,\n",
       " 'uk': 8642,\n",
       " 'charged': 2094,\n",
       " '£5month': 9511,\n",
       " 'please': 6403,\n",
       " 'confirm': 2362,\n",
       " 'replying': 6955,\n",
       " 'yup': 9445,\n",
       " 'look': 5104,\n",
       " 'timings': 8380,\n",
       " 'msg': 5618,\n",
       " 'xuhui': 9330,\n",
       " 'learn': 4943,\n",
       " '2nd': 501,\n",
       " 'lesson': 4975,\n",
       " '8am': 876,\n",
       " 'oops': 6056,\n",
       " 'roommates': 7081,\n",
       " 'done': 2904,\n",
       " 'see': 7273,\n",
       " 'letter': 4979,\n",
       " 'decide': 2669,\n",
       " 'hello': 4075,\n",
       " 'hows': 4250,\n",
       " 'saturday': 7198,\n",
       " 'texting': 8241,\n",
       " 'youd': 9408,\n",
       " 'decided': 2670,\n",
       " 'tomo': 8442,\n",
       " 'trying': 8567,\n",
       " 'invite': 4497,\n",
       " 'pls': 6411,\n",
       " 'ahead': 1064,\n",
       " 'watts': 8983,\n",
       " 'wanted': 8950,\n",
       " 'weekend': 9020,\n",
       " 'abiola': 927,\n",
       " 'forget': 3527,\n",
       " 'need': 5744,\n",
       " 'crave': 2482,\n",
       " 'sweet': 8076,\n",
       " 'arabian': 1266,\n",
       " 'steed': 7857,\n",
       " 'mmmmmm': 5520,\n",
       " 'yummy': 9440,\n",
       " '07732584351': 29,\n",
       " 'rodger': 7067,\n",
       " 'burns': 1877,\n",
       " 'tried': 8544,\n",
       " 'sms': 7603,\n",
       " 'nokia': 5853,\n",
       " 'camcorder': 1961,\n",
       " '08000930705': 53,\n",
       " 'delivery': 2708,\n",
       " 'tomorrow': 8445,\n",
       " 'seeing': 7275,\n",
       " 'hope': 4209,\n",
       " 'man': 5273,\n",
       " 'well': 9037,\n",
       " 'endowed': 3121,\n",
       " 'ltgt': 5176,\n",
       " 'inches': 4401,\n",
       " 'callsmessagesmissed': 1954,\n",
       " 'calls': 1952,\n",
       " 'didnt': 2782,\n",
       " 'get': 3737,\n",
       " 'hep': 4096,\n",
       " 'immunisation': 4382,\n",
       " 'nigeria': 5801,\n",
       " 'fair': 3308,\n",
       " 'hopefully': 4213,\n",
       " 'tyler': 8620,\n",
       " 'cant': 1980,\n",
       " 'could': 2446,\n",
       " 'maybe': 5347,\n",
       " 'ask': 1321,\n",
       " 'bit': 1641,\n",
       " 'stubborn': 7937,\n",
       " 'hospital': 4226,\n",
       " 'kept': 4751,\n",
       " 'telling': 8199,\n",
       " 'weak': 8991,\n",
       " 'sucker': 7985,\n",
       " 'hospitals': 4227,\n",
       " 'suckers': 7986,\n",
       " 'thinked': 8310,\n",
       " 'time': 8369,\n",
       " 'saw': 7207,\n",
       " 'class': 2214,\n",
       " 'gram': 3864,\n",
       " 'usually': 8771,\n",
       " 'runs': 7125,\n",
       " 'half': 3972,\n",
       " 'eighth': 3076,\n",
       " 'smarter': 7581,\n",
       " 'gets': 3741,\n",
       " 'almost': 1125,\n",
       " 'whole': 9092,\n",
       " 'second': 7260,\n",
       " 'fyi': 3661,\n",
       " 'ride': 7031,\n",
       " 'morning': 5584,\n",
       " 'hes': 4109,\n",
       " 'crashing': 2481,\n",
       " 'place': 6376,\n",
       " 'wow': 9233,\n",
       " 'never': 5774,\n",
       " 'realized': 6826,\n",
       " 'embarassed': 3101,\n",
       " 'accomodations': 955,\n",
       " 'thought': 8329,\n",
       " 'liked': 5011,\n",
       " 'since': 7493,\n",
       " 'best': 1595,\n",
       " 'seemed': 7279,\n",
       " 'happy': 4006,\n",
       " 'cave': 2045,\n",
       " 'sorry': 7683,\n",
       " 'give': 3767,\n",
       " 'offered': 5979,\n",
       " 'embarassing': 3102,\n",
       " 'ac': 941,\n",
       " 'sptv': 7788,\n",
       " 'new': 5778,\n",
       " 'jersey': 4630,\n",
       " 'devils': 2761,\n",
       " 'detroit': 2755,\n",
       " 'red': 6872,\n",
       " 'wings': 9126,\n",
       " 'play': 6392,\n",
       " 'ice': 4335,\n",
       " 'hockey': 4169,\n",
       " 'correct': 2426,\n",
       " 'incorrect': 4412,\n",
       " 'end': 3116,\n",
       " 'mallika': 5272,\n",
       " 'sherawat': 7386,\n",
       " 'yesterday': 9389,\n",
       " 'find': 3420,\n",
       " 'lturlgt': 5179,\n",
       " 'congrats': 2369,\n",
       " 'year': 9363,\n",
       " 'special': 7723,\n",
       " 'cinema': 2201,\n",
       " 'pass': 6226,\n",
       " '09061209465': 213,\n",
       " 'suprman': 8043,\n",
       " 'matrix3': 5332,\n",
       " 'starwars3': 7837,\n",
       " 'etc': 3185,\n",
       " 'bx420ip45we': 1903,\n",
       " '150pm': 353,\n",
       " 'later': 4912,\n",
       " 'meeting': 5376,\n",
       " 'reached': 6809,\n",
       " 'yesgauti': 9382,\n",
       " 'sehwag': 7286,\n",
       " 'odi': 5972,\n",
       " 'series': 7323,\n",
       " 'pick': 6344,\n",
       " 'burger': 1872,\n",
       " 'move': 5602,\n",
       " 'pain': 6168,\n",
       " 'killing': 4777,\n",
       " 'good': 3819,\n",
       " 'joke': 4659,\n",
       " 'girls': 3764,\n",
       " 'situation': 7519,\n",
       " 'seekers': 7276,\n",
       " 'part': 6213,\n",
       " 'checking': 2121,\n",
       " 'iq': 4512,\n",
       " 'took': 8464,\n",
       " 'forever': 3524,\n",
       " 'come': 2298,\n",
       " 'double': 2924,\n",
       " 'check': 2117,\n",
       " 'hair': 3967,\n",
       " 'dresser': 2959,\n",
       " 'said': 7150,\n",
       " 'wun': 9263,\n",
       " 'cut': 2558,\n",
       " 'short': 7427,\n",
       " 'nice': 5794,\n",
       " 'pleased': 6404,\n",
       " 'advise': 1020,\n",
       " 'following': 3502,\n",
       " 'recent': 6852,\n",
       " 'review': 7018,\n",
       " 'mob': 5528,\n",
       " 'awarded': 1408,\n",
       " '£1500': 9479,\n",
       " 'bonus': 1710,\n",
       " '09066364589': 262,\n",
       " 'song': 7665,\n",
       " 'dedicated': 2680,\n",
       " 'day': 2627,\n",
       " 'dedicate': 2679,\n",
       " 'valuable': 8794,\n",
       " 'frnds': 3614,\n",
       " 'rply': 7098,\n",
       " 'complimentary': 2335,\n",
       " 'trip': 8545,\n",
       " 'eurodisinc': 3192,\n",
       " 'trav': 8527,\n",
       " 'acoentry41': 970,\n",
       " '£1000': 9470,\n",
       " 'dis': 2827,\n",
       " '186£150morefrmmob': 385,\n",
       " 'shracomorsglsuplt10': 7451,\n",
       " 'ls1': 5165,\n",
       " '3aj': 560,\n",
       " 'hear': 4050,\n",
       " 'divorce': 2856,\n",
       " 'barbie': 1479,\n",
       " 'comes': 2302,\n",
       " 'kens': 4749,\n",
       " 'plane': 6383,\n",
       " 'month': 5571,\n",
       " 'wah': 8911,\n",
       " 'lucky': 5184,\n",
       " 'save': 7203,\n",
       " 'money': 5559,\n",
       " 'hee': 4066,\n",
       " 'finished': 3431,\n",
       " 'hi': 4120,\n",
       " 'babe': 1430,\n",
       " 'wanna': 8946,\n",
       " 'something': 7651,\n",
       " 'xx': 9331,\n",
       " 'kkwhere': 4810,\n",
       " 'youhow': 9411,\n",
       " 'performed': 6287,\n",
       " 'waiting': 8922,\n",
       " 'machan': 5227,\n",
       " 'cool': 2413,\n",
       " 'gentleman': 3728,\n",
       " 'dignity': 2804,\n",
       " 'respect': 6982,\n",
       " 'peoples': 6279,\n",
       " 'much': 5638,\n",
       " 'shy': 7461,\n",
       " 'pa': 6156,\n",
       " 'operate': 6063,\n",
       " 'looking': 5108,\n",
       " 'job': 4645,\n",
       " 'tas': 8147,\n",
       " 'earn': 3024,\n",
       " 'ah': 1062,\n",
       " 'stop': 7889,\n",
       " 'urgnt': 8742,\n",
       " 'real': 6819,\n",
       " 'yo': 9399,\n",
       " 'tickets': 8358,\n",
       " 'one': 6034,\n",
       " 'jacket': 4585,\n",
       " 'used': 8755,\n",
       " 'multis': 5649,\n",
       " 'started': 7830,\n",
       " 'requests': 6962,\n",
       " 'came': 1962,\n",
       " 'bed': 1549,\n",
       " 'coins': 2274,\n",
       " 'factory': 3298,\n",
       " 'gotta': 3848,\n",
       " 'nitros': 5825,\n",
       " 'ela': 3081,\n",
       " 'kanoil': 4725,\n",
       " 'download': 2932,\n",
       " 'wen': 9043,\n",
       " 'don‘t': 2914,\n",
       " 'stand': 7818,\n",
       " 'close': 2235,\n",
       " 'you‘ll': 9432,\n",
       " 'another': 1193,\n",
       " 'night': 5803,\n",
       " 'spent': 7742,\n",
       " 'late': 4907,\n",
       " 'afternoon': 1039,\n",
       " 'casualty': 2035,\n",
       " 'means': 5359,\n",
       " 'havent': 4031,\n",
       " 'stuff42moro': 7950,\n",
       " 'includes': 4405,\n",
       " 'sheets': 7381,\n",
       " 'smile': 7590,\n",
       " 'pleasure': 6406,\n",
       " 'trouble': 8551,\n",
       " 'pours': 6514,\n",
       " 'rain': 6764,\n",
       " 'sum1': 8008,\n",
       " 'hurts': 4311,\n",
       " 'becoz': 1547,\n",
       " 'someone': 7644,\n",
       " 'loves': 5152,\n",
       " 'smiling': 7594,\n",
       " 'service': 7328,\n",
       " 'representative': 6959,\n",
       " '0800': 49,\n",
       " '169': 378,\n",
       " '6031': 704,\n",
       " '10am9pm': 307,\n",
       " 'guaranteed': 3922,\n",
       " '£5000': 9506,\n",
       " 'planning': 6388,\n",
       " 'buy': 1892,\n",
       " 'lido': 4992,\n",
       " '530': 676,\n",
       " 'show': 7442,\n",
       " 'collected': 2283,\n",
       " 'simply': 7490,\n",
       " 'password': 6234,\n",
       " 'mix': 5510,\n",
       " '85069': 834,\n",
       " 'verify': 8821,\n",
       " 'usher': 8762,\n",
       " 'britney': 1816,\n",
       " 'fml': 3492,\n",
       " 'po': 6422,\n",
       " 'box': 1746,\n",
       " '5249': 673,\n",
       " 'mk17': 5513,\n",
       " '92h': 892,\n",
       " '450ppw': 619,\n",
       " 'telugu': 8204,\n",
       " 'moviewat': 5607,\n",
       " 'abt': 936,\n",
       " 'loads': 5070,\n",
       " 'loans': 5072,\n",
       " 'wk': 9156,\n",
       " 'hols': 4183,\n",
       " 'run': 7122,\n",
       " 'forgot': 3532,\n",
       " 'hairdressers': 3969,\n",
       " 'appointment': 1246,\n",
       " 'four': 3552,\n",
       " 'shower': 7444,\n",
       " 'beforehand': 1564,\n",
       " 'cause': 2042,\n",
       " 'prob': 6615,\n",
       " 'coffee': 2269,\n",
       " 'animation': 1180,\n",
       " 'nothing': 5887,\n",
       " 'else': 3095,\n",
       " 'okay': 6007,\n",
       " 'price': 6588,\n",
       " 'long': 5100,\n",
       " 'legal': 4957,\n",
       " 'ave': 1395,\n",
       " 'ams': 1162,\n",
       " 'gone': 3814,\n",
       " '4the': 652,\n",
       " 'driving': 2968,\n",
       " 'test': 8227,\n",
       " 'yet': 9390,\n",
       " 'youre': 9421,\n",
       " 'mean': 5355,\n",
       " 'guess': 3930,\n",
       " 'gave': 3696,\n",
       " 'boston': 1732,\n",
       " 'men': 5399,\n",
       " 'changed': 2084,\n",
       " 'search': 7255,\n",
       " 'location': 5075,\n",
       " 'nyc': 5943,\n",
       " 'cuz': 2565,\n",
       " 'signin': 7478,\n",
       " 'page': 6164,\n",
       " 'says': 7213,\n",
       " 'umma': 8651,\n",
       " 'life': 4995,\n",
       " 'vava': 8808,\n",
       " 'lot': 5126,\n",
       " 'dear': 2651,\n",
       " 'wishes': 9141,\n",
       " 'birthday': 1639,\n",
       " 'making': 5267,\n",
       " 'truly': 8559,\n",
       " 'memorable': 5396,\n",
       " 'aight': 1077,\n",
       " 'hit': 4142,\n",
       " 'would': 9229,\n",
       " 'ip': 4505,\n",
       " 'address': 994,\n",
       " 'considering': 2380,\n",
       " 'computer': 2342,\n",
       " 'isnt': 4531,\n",
       " 'minecraft': 5467,\n",
       " 'server': 7327,\n",
       " 'grumpy': 3914,\n",
       " 'old': 6024,\n",
       " 'people': 6278,\n",
       " 'mom': 5551,\n",
       " 'better': 1603,\n",
       " 'lying': 5207,\n",
       " 'jokes': 4661,\n",
       " 'worry': 9217,\n",
       " 'busy': 1886,\n",
       " 'plural': 6416,\n",
       " 'noun': 5896,\n",
       " 'research': 6968,\n",
       " 'dinnermsg': 2815,\n",
       " 'cos': 2432,\n",
       " 'things': 8308,\n",
       " 'scared': 7220,\n",
       " 'mah': 5251,\n",
       " 'loud': 5137,\n",
       " 'gent': 3726,\n",
       " 'contact': 2385,\n",
       " 'last': 4904,\n",
       " 'weekends': 9021,\n",
       " 'draw': 2946,\n",
       " 'shows': 7450,\n",
       " '09064012160': 237,\n",
       " 'k52': 4704,\n",
       " '12hrs': 335,\n",
       " '150ppm': 363,\n",
       " 'wa': 8906,\n",
       " 'openin': 6060,\n",
       " 'sentence': 7316,\n",
       " 'formal': 3535,\n",
       " 'anyway': 1219,\n",
       " 'juz': 4702,\n",
       " 'tt': 8577,\n",
       " 'eatin': 3038,\n",
       " 'puttin': 6715,\n",
       " 'weighthaha': 9028,\n",
       " 'anythin': 1214,\n",
       " 'happened': 3998,\n",
       " 'entered': 3142,\n",
       " 'cabin': 1913,\n",
       " 'bday': 1532,\n",
       " 'boss': 1731,\n",
       " 'felt': 3377,\n",
       " 'askd': 1322,\n",
       " 'invited': 4498,\n",
       " 'apartment': 1224,\n",
       " 'went': 9046,\n",
       " 'specially': 7728,\n",
       " 'holiday': 4179,\n",
       " 'flights': 3469,\n",
       " 'inc': 4399,\n",
       " 'operator': 6064,\n",
       " '0871277810910pmin': 122,\n",
       " '18': 381,\n",
       " 'goodo': 3833,\n",
       " 'must': 5669,\n",
       " 'friday': 3597,\n",
       " 'eggpotato': 3069,\n",
       " 'ratio': 6793,\n",
       " 'tortilla': 8483,\n",
       " 'needed': 5746,\n",
       " 'hmmmy': 4164,\n",
       " 'uncle': 8658,\n",
       " 'informed': 4437,\n",
       " 'paying': 6255,\n",
       " 'school': 7226,\n",
       " 'directly': 2821,\n",
       " 'food': 3510,\n",
       " 'private': 6606,\n",
       " '2004': 422,\n",
       " 'account': 959,\n",
       " 'statement': 7840,\n",
       " '07742676969': 31,\n",
       " '786': 766,\n",
       " 'unredeemed': 8700,\n",
       " 'points': 6446,\n",
       " '08719180248': 170,\n",
       " 'identifier': 4347,\n",
       " '45239': 621,\n",
       " 'expires': 3268,\n",
       " '£2000': 9491,\n",
       " 'caller': 1944,\n",
       " '5903': 681,\n",
       " 'landline': 4884,\n",
       " '09064019788': 243,\n",
       " 'box42wr29c': 1758,\n",
       " 'applespairsall': 1240,\n",
       " 'malarky': 5269,\n",
       " 'todays': 8421,\n",
       " 'voda': 8875,\n",
       " 'numbers': 5929,\n",
       " 'ending': 3118,\n",
       " '7548': 761,\n",
       " '350': 550,\n",
       " 'award': 1407,\n",
       " 'match': 5320,\n",
       " '08712300220': 104,\n",
       " 'quoting': 6751,\n",
       " '4041': 592,\n",
       " 'standard': 7819,\n",
       " 'rates': 6790,\n",
       " 'app': 1234,\n",
       " 'sao': 7176,\n",
       " 'mu': 5637,\n",
       " 'predict': 6549,\n",
       " 'üll': 9524,\n",
       " 'buying': 1895,\n",
       " 'knowyetunde': 4828,\n",
       " 'hasnt': 4018,\n",
       " 'sent': 7314,\n",
       " 'bother': 1734,\n",
       " 'sending': 7306,\n",
       " 'involve': 4502,\n",
       " 'shouldnt': 7436,\n",
       " 'imposed': 4388,\n",
       " 'apologise': 1231,\n",
       " 'girl': 3760,\n",
       " 'del': 2698,\n",
       " 'bak': 1456,\n",
       " 'sum': 8007,\n",
       " 'lucyxx': 5188,\n",
       " 'kkhow': 4804,\n",
       " 'tmorrowpls': 8403,\n",
       " 'accomodate': 954,\n",
       " 'answer': 1196,\n",
       " 'question': 6735,\n",
       " 'sunshine': 8024,\n",
       " 'quiz': 6746,\n",
       " 'q': 6721,\n",
       " 'top': 8473,\n",
       " 'sony': 7668,\n",
       " 'dvd': 3011,\n",
       " 'player': 6394,\n",
       " 'country': 2453,\n",
       " 'algarve': 1106,\n",
       " 'ansr': 1195,\n",
       " '82277': 805,\n",
       " 'sptyrone': 7789,\n",
       " 'laid': 4875,\n",
       " 'dogging': 2885,\n",
       " 'locations': 5076,\n",
       " 'direct': 2820,\n",
       " 'join': 4654,\n",
       " 'uks': 8645,\n",
       " 'largest': 4901,\n",
       " 'bt': 1843,\n",
       " 'txting': 8615,\n",
       " 'gravel': 3877,\n",
       " '69888': 730,\n",
       " 'nt': 5917,\n",
       " 'ec2a': 3041,\n",
       " '31pmsg150p': 543,\n",
       " 'haf': 3961,\n",
       " 'msn': 5630,\n",
       " 'yijuehotmailcom': 9396,\n",
       " 'rooms': 7082,\n",
       " 'befor': 1563,\n",
       " 'activities': 981,\n",
       " 'youll': 9415,\n",
       " 'msgs': 5622,\n",
       " 'chat': 2106,\n",
       " 'svc': 8061,\n",
       " 'hardcore': 4008,\n",
       " 'services': 7329,\n",
       " '69988': 734,\n",
       " 'age': 1047,\n",
       " 'yr': 9436,\n",
       " 'lazy': 4931,\n",
       " 'type': 8622,\n",
       " 'lect': 4951,\n",
       " 'pouch': 6509,\n",
       " 'sir': 7505,\n",
       " 'mail': 5254,\n",
       " 'swt': 8090,\n",
       " 'nver': 5938,\n",
       " 'tired': 8384,\n",
       " 'little': 5055,\n",
       " 'lovable': 5141,\n",
       " 'persons': 6305,\n",
       " 'cozsomtimes': 2467,\n",
       " 'occupy': 5965,\n",
       " 'biggest': 1620,\n",
       " 'hearts': 4058,\n",
       " 'gud': 3924,\n",
       " 'ni8': 5791,\n",
       " 'open': 6057,\n",
       " 'ya': 9345,\n",
       " 'dot': 2923,\n",
       " 'whats': 9069,\n",
       " 'staff': 7809,\n",
       " 'taking': 8126,\n",
       " 'replied': 6951,\n",
       " 'randy': 6783,\n",
       " 'sexy': 7345,\n",
       " 'female': 3378,\n",
       " 'local': 5074,\n",
       " 'luv': 5197,\n",
       " 'netcollex': 5765,\n",
       " 'ltd': 5171,\n",
       " '08700621170150p': 74,\n",
       " 'ummmawill': 8652,\n",
       " 'inour': 4454,\n",
       " 'begin': 1569,\n",
       " 'qatar': 6722,\n",
       " 'pray': 6542,\n",
       " 'hard': 4007,\n",
       " 'ki': 4765,\n",
       " 'deleted': 2702,\n",
       " 'sindu': 7495,\n",
       " 'birla': 1635,\n",
       " 'soft': 7631,\n",
       " 'wine': 9124,\n",
       " 'flowing': 3483,\n",
       " 'nevering': 5775,\n",
       " 'thk': 8318,\n",
       " 'plaza': 6401,\n",
       " 'typical': 8625,\n",
       " 'everywhere': 3218,\n",
       " 'dirt': 2824,\n",
       " 'floor': 3477,\n",
       " 'windows': 9121,\n",
       " 'shirt': 7401,\n",
       " 'sometimes': 7655,\n",
       " 'mouth': 5601,\n",
       " 'dream': 2950,\n",
       " 'without': 9150,\n",
       " 'chores': 2187,\n",
       " 'joy': 4676,\n",
       " 'lots': 5129,\n",
       " 'tv': 8596,\n",
       " 'exist': 3252,\n",
       " 'hail': 3966,\n",
       " 'mist': 5501,\n",
       " 'become': 1545,\n",
       " 'aaooooright': 916,\n",
       " 'leaving': 4950,\n",
       " 'house': 4239,\n",
       " 'interview': 4484,\n",
       " 'boy': 1763,\n",
       " 'meare': 5362,\n",
       " 'missing': 5494,\n",
       " 'annoncement': 1186,\n",
       " 'years': 9364,\n",
       " '07046744435': 22,\n",
       " 'arrange': 1297,\n",
       " '0871277810810': 121,\n",
       " 'keep': 4742,\n",
       " 'safe': 7145,\n",
       " 'envy': 3156,\n",
       " 'everyone': 3212,\n",
       " 'sees': 7283,\n",
       " 'parentsi': 6204,\n",
       " 'hand': 3981,\n",
       " 'excited': 3240,\n",
       " 'spend': 7740,\n",
       " 'bootydelious': 1723,\n",
       " '32f': 548,\n",
       " 'inviting': 4499,\n",
       " 'friend': 3602,\n",
       " 'yes434': 9376,\n",
       " 'no434': 5832,\n",
       " 'wwwsmsacubootydelious': 9297,\n",
       " 'frnd': 3613,\n",
       " '62468': 712,\n",
       " 'bangbabes': 1470,\n",
       " 'order': 6088,\n",
       " 'content': 2389,\n",
       " 'goto': 3847,\n",
       " 'bangb': 1469,\n",
       " 'internetservice': 4483,\n",
       " 'menu': 5407,\n",
       " 'cultures': 2537,\n",
       " 'module': 5544,\n",
       " '09061701939': 220,\n",
       " 's89': 7135,\n",
       " 'avoid': 1401,\n",
       " 'missunderstding': 5499,\n",
       " 'wit': 9146,\n",
       " 'beloved': 1585,\n",
       " 'ones': 6036,\n",
       " 'escape': 3175,\n",
       " 'fancy': 3329,\n",
       " 'bridge': 1800,\n",
       " 'needs': 5750,\n",
       " 'lager': 4874,\n",
       " 'completely': 2331,\n",
       " 'formclark': 3539,\n",
       " 'also': 1135,\n",
       " 'utter': 8773,\n",
       " 'waste': 8966,\n",
       " 'axis': 1415,\n",
       " 'bank': 1472,\n",
       " 'hmmm': 4158,\n",
       " 'hop': 4208,\n",
       " 'muz': 5675,\n",
       " 'discuss': 2840,\n",
       " ...}"
      ]
     },
     "execution_count": 20,
     "metadata": {},
     "output_type": "execute_result"
    }
   ],
   "source": [
    "# a dictionary of unique word in our corpus and their corresponding ids\n",
    "# the keys of this dictionary becomes the features in the table of bag of words\n",
    "bow_transformer.vocabulary_"
   ]
  },
  {
   "cell_type": "code",
   "execution_count": null,
   "id": "98bedc15",
   "metadata": {},
   "outputs": [],
   "source": []
  },
  {
   "cell_type": "markdown",
   "id": "67560b36",
   "metadata": {},
   "source": [
    "###### testing the count vectorizer on a document (document at index 3) from our corpus of document"
   ]
  },
  {
   "cell_type": "code",
   "execution_count": 16,
   "id": "fe37fbb1",
   "metadata": {},
   "outputs": [],
   "source": [
    "# testing the bag of words transfore \n",
    "mess4 = df.message[3]"
   ]
  },
  {
   "cell_type": "code",
   "execution_count": 17,
   "id": "91b2ce94",
   "metadata": {},
   "outputs": [
    {
     "data": {
      "text/plain": [
       "'U dun say so early hor... U c already then say...'"
      ]
     },
     "execution_count": 17,
     "metadata": {},
     "output_type": "execute_result"
    }
   ],
   "source": [
    "mess4"
   ]
  },
  {
   "cell_type": "code",
   "execution_count": 18,
   "id": "c6023854",
   "metadata": {},
   "outputs": [],
   "source": [
    "bow4 = bow_transformer.transform([mess4])"
   ]
  },
  {
   "cell_type": "code",
   "execution_count": 120,
   "id": "a0af1e66",
   "metadata": {},
   "outputs": [
    {
     "data": {
      "text/plain": [
       "<1x9530 sparse matrix of type '<class 'numpy.int64'>'\n",
       "\twith 7 stored elements in Compressed Sparse Row format>"
      ]
     },
     "execution_count": 120,
     "metadata": {},
     "output_type": "execute_result"
    }
   ],
   "source": [
    "bow4"
   ]
  },
  {
   "cell_type": "code",
   "execution_count": null,
   "id": "b1cd9672",
   "metadata": {},
   "outputs": [],
   "source": []
  },
  {
   "cell_type": "code",
   "execution_count": 121,
   "id": "b710fbcf",
   "metadata": {},
   "outputs": [
    {
     "name": "stdout",
     "output_type": "stream",
     "text": [
      "  (0, 1129)\t1\n",
      "  (0, 1910)\t1\n",
      "  (0, 3002)\t1\n",
      "  (0, 3023)\t1\n",
      "  (0, 4219)\t1\n",
      "  (0, 7208)\t2\n",
      "  (0, 8626)\t2\n"
     ]
    }
   ],
   "source": [
    "print(bow4)"
   ]
  },
  {
   "cell_type": "markdown",
   "id": "753f1a2f",
   "metadata": {},
   "source": [
    "the first value in the tuple in the tuple represent the document position. Since we are only one document else 0<br>\n",
    "the second value represent the id of the token in the document<br>\n",
    "the last value represent the count of the token in that document"
   ]
  },
  {
   "cell_type": "code",
   "execution_count": 124,
   "id": "b8971d29",
   "metadata": {},
   "outputs": [
    {
     "name": "stdout",
     "output_type": "stream",
     "text": [
      "'say' occurs twice\n",
      "'u' occurs twice\n"
     ]
    }
   ],
   "source": [
    "# getting the feature of bow4 using the id.\n",
    "# using the index number above to get the (word) feature that occurs as a specified number of count\n",
    "print(f\"'{bow_transformer.get_feature_names()[7208]}' occurs twice\")\n",
    "print(f\"'{bow_transformer.get_feature_names()[8626]}' occurs twice\")"
   ]
  },
  {
   "cell_type": "code",
   "execution_count": null,
   "id": "95055367",
   "metadata": {},
   "outputs": [],
   "source": []
  },
  {
   "cell_type": "code",
   "execution_count": 23,
   "id": "a447f297",
   "metadata": {},
   "outputs": [],
   "source": [
    "# GOING BACK TO THE MAIN BOW_TRANSFORMER\n",
    "# AND CREATING BAG OF WORDS IN SPARSE FORM FOR THE MESSAGE COLUMN\n",
    "message_bow = bow_transformer.transform(df['message'])"
   ]
  },
  {
   "cell_type": "code",
   "execution_count": 24,
   "id": "bb76be2c",
   "metadata": {},
   "outputs": [
    {
     "name": "stdout",
     "output_type": "stream",
     "text": [
      "  (0, 1156)\t1\n",
      "  (0, 1389)\t1\n",
      "  (0, 1858)\t1\n",
      "  (0, 1860)\t1\n",
      "  (0, 2200)\t1\n",
      "  (0, 2485)\t1\n",
      "  (0, 3016)\t1\n",
      "  (0, 3786)\t1\n",
      "  (0, 3843)\t1\n",
      "  (0, 3883)\t1\n",
      "  (0, 4696)\t1\n",
      "  (0, 4858)\t1\n",
      "  (0, 5686)\t1\n",
      "  (0, 6445)\t1\n",
      "  (0, 8969)\t1\n",
      "  (0, 9208)\t1\n",
      "  (1, 4664)\t1\n",
      "  (1, 4897)\t1\n",
      "  (1, 6006)\t1\n",
      "  (1, 6038)\t1\n",
      "  (1, 8626)\t1\n",
      "  (1, 9103)\t1\n",
      "  (2, 72)\t1\n",
      "  (2, 416)\t1\n",
      "  (2, 423)\t1\n",
      "  :\t:\n",
      "  (5568, 3558)\t1\n",
      "  (5568, 3805)\t1\n",
      "  (5568, 4185)\t1\n",
      "  (5568, 9523)\t1\n",
      "  (5569, 5576)\t1\n",
      "  (5569, 6371)\t1\n",
      "  (5569, 7626)\t1\n",
      "  (5569, 8002)\t1\n",
      "  (5570, 974)\t1\n",
      "  (5570, 1643)\t1\n",
      "  (5570, 1895)\t1\n",
      "  (5570, 3095)\t1\n",
      "  (5570, 3571)\t1\n",
      "  (5570, 3696)\t1\n",
      "  (5570, 3945)\t1\n",
      "  (5570, 4340)\t1\n",
      "  (5570, 4477)\t1\n",
      "  (5570, 5010)\t1\n",
      "  (5570, 5788)\t1\n",
      "  (5570, 7651)\t1\n",
      "  (5570, 8750)\t1\n",
      "  (5570, 9018)\t1\n",
      "  (5571, 5699)\t1\n",
      "  (5571, 7068)\t1\n",
      "  (5571, 8556)\t1\n"
     ]
    }
   ],
   "source": [
    "print(message_bow)"
   ]
  },
  {
   "cell_type": "code",
   "execution_count": 25,
   "id": "c7684031",
   "metadata": {},
   "outputs": [
    {
     "name": "stdout",
     "output_type": "stream",
     "text": [
      "Shape of the bag of words sparse form is: (5572, 9530)\n"
     ]
    }
   ],
   "source": [
    "print(f\"Shape of the bag of words sparse form is: {message_bow.shape}\")"
   ]
  },
  {
   "cell_type": "code",
   "execution_count": 26,
   "id": "f996e0e8",
   "metadata": {},
   "outputs": [
    {
     "data": {
      "text/plain": [
       "50101"
      ]
     },
     "execution_count": 26,
     "metadata": {},
     "output_type": "execute_result"
    }
   ],
   "source": [
    "# printing the non zero occurences \n",
    "message_bow.nnz"
   ]
  },
  {
   "cell_type": "code",
   "execution_count": null,
   "id": "bc631883",
   "metadata": {},
   "outputs": [],
   "source": []
  },
  {
   "cell_type": "code",
   "execution_count": 27,
   "id": "ce6f5dc3",
   "metadata": {},
   "outputs": [],
   "source": [
    "# NOW REDUCING THE WEIGHT OF THE WORD THAT IS COMMON TO ALL DOCUMENTS IN TRANSFORMED BOW USING THE TFIDF MODULE\n",
    "from sklearn.feature_extraction.text import TfidfTransformer"
   ]
  },
  {
   "cell_type": "code",
   "execution_count": 28,
   "id": "5df210d8",
   "metadata": {},
   "outputs": [],
   "source": [
    "tfidf_transformer = TfidfTransformer().fit(message_bow)"
   ]
  },
  {
   "cell_type": "code",
   "execution_count": 29,
   "id": "dd0550ac",
   "metadata": {},
   "outputs": [],
   "source": [
    "# converting the bow4 we created above to its tfidf equivalent to test\n",
    "bow4_tfidf = tfidf_transformer.transform(bow4)"
   ]
  },
  {
   "cell_type": "code",
   "execution_count": 30,
   "id": "6edab5ad",
   "metadata": {},
   "outputs": [
    {
     "name": "stdout",
     "output_type": "stream",
     "text": [
      "  (0, 8626)\t0.31949158769666564\n",
      "  (0, 7208)\t0.5597000940482765\n",
      "  (0, 4219)\t0.46452762500729494\n",
      "  (0, 3023)\t0.33557436526898854\n",
      "  (0, 3002)\t0.30912546538910485\n",
      "  (0, 1910)\t0.2870370340589675\n",
      "  (0, 1129)\t0.27985004702413824\n"
     ]
    }
   ],
   "source": [
    "print(bow4_tfidf)"
   ]
  },
  {
   "cell_type": "code",
   "execution_count": 32,
   "id": "318fbbce",
   "metadata": {},
   "outputs": [
    {
     "data": {
      "text/plain": [
       "array([8.23939443, 8.5270765 , 8.93254161, ..., 8.93254161, 6.98663146,\n",
       "       8.93254161])"
      ]
     },
     "execution_count": 32,
     "metadata": {},
     "output_type": "execute_result"
    }
   ],
   "source": [
    "tfidf_transformer.idf_"
   ]
  },
  {
   "cell_type": "code",
   "execution_count": 33,
   "id": "52a6d221",
   "metadata": {},
   "outputs": [
    {
     "data": {
      "text/plain": [
       "9530"
      ]
     },
     "execution_count": 33,
     "metadata": {},
     "output_type": "execute_result"
    }
   ],
   "source": [
    "len(tfidf_transformer.idf_)"
   ]
  },
  {
   "cell_type": "markdown",
   "id": "e2809224",
   "metadata": {},
   "source": [
    "NOTE: len(bow_transformer.vocabulary_) == len(tfidf_transformer.idf_)"
   ]
  },
  {
   "cell_type": "code",
   "execution_count": 34,
   "id": "39773746",
   "metadata": {},
   "outputs": [
    {
     "data": {
      "text/plain": [
       "8.239394426449646"
      ]
     },
     "execution_count": 34,
     "metadata": {},
     "output_type": "execute_result"
    }
   ],
   "source": [
    "# CHECKING THE WEIGHT OF THE TERM \"university\": USING THE INVERSE DOCUMENT FREQUENCY\n",
    "# TERMS THAT OCCURS TOO FREQUENTLY IN ALL DOCUMENTS IN THE CORPUS HAS LESSER WEIGHT HENCE LESS SIGNIFICANT\n",
    "tfidf_transformer.idf_[bow_transformer.vocabulary_['university']]"
   ]
  },
  {
   "cell_type": "code",
   "execution_count": 144,
   "id": "78473d9c",
   "metadata": {},
   "outputs": [],
   "source": [
    "# "
   ]
  },
  {
   "cell_type": "code",
   "execution_count": 35,
   "id": "c647b997",
   "metadata": {},
   "outputs": [],
   "source": [
    "# CONVERT THE ENTIRE BAG OF WORDS TO IT EQUIVALENT TFIDF FORM\n",
    "# VECTORIZING THE MESSAGES SO THAT WE CAN TRAIN THEM WITH A MACHINE LEARNING MOEL\n",
    "message_tfidf = tfidf_transformer.transform(message_bow)"
   ]
  },
  {
   "cell_type": "code",
   "execution_count": null,
   "id": "67ac2ca4",
   "metadata": {},
   "outputs": [],
   "source": []
  },
  {
   "cell_type": "markdown",
   "id": "bfcd55c3",
   "metadata": {},
   "source": [
    "<h4>TRAINING THE TRANSFORMED MESAGE ABOVE WITH A CLASSIFIER MODEL</h4>"
   ]
  },
  {
   "cell_type": "code",
   "execution_count": 36,
   "id": "5119a24b",
   "metadata": {},
   "outputs": [],
   "source": [
    "# USONG THE NAIVE BAYES CLASSIFIER MODEL\n",
    "from sklearn.naive_bayes import MultinomialNB"
   ]
  },
  {
   "cell_type": "code",
   "execution_count": 37,
   "id": "fafba413",
   "metadata": {},
   "outputs": [],
   "source": [
    "spam_detect_model = MultinomialNB()"
   ]
  },
  {
   "cell_type": "code",
   "execution_count": 38,
   "id": "316a89a0",
   "metadata": {},
   "outputs": [
    {
     "data": {
      "text/plain": [
       "MultinomialNB()"
      ]
     },
     "execution_count": 38,
     "metadata": {},
     "output_type": "execute_result"
    }
   ],
   "source": [
    "spam_detect_model.fit(message_tfidf, df.label)"
   ]
  },
  {
   "cell_type": "code",
   "execution_count": 39,
   "id": "2d3af4ef",
   "metadata": {},
   "outputs": [
    {
     "data": {
      "text/plain": [
       "'ham'"
      ]
     },
     "execution_count": 39,
     "metadata": {},
     "output_type": "execute_result"
    }
   ],
   "source": [
    "# PREDICTING THE LABEL OF THE TRANSFORMED MESSAGE IN ROW 4 OF OUR DATAFRAME WE CREATED ABOVE (bow4_tfidf)\n",
    "spam_detect_model.predict(bow4_tfidf)[0]"
   ]
  },
  {
   "cell_type": "code",
   "execution_count": null,
   "id": "644f9705",
   "metadata": {},
   "outputs": [],
   "source": []
  },
  {
   "cell_type": "markdown",
   "id": "c6ba217f",
   "metadata": {},
   "source": [
    "<h4>WE ARE GOING TO TRAIN TEST SPLIT OUR DATA</h4>\n",
    "<br>\n",
    "<br>\n",
    "<li>TRAINING MODEL ON ALL THE DATA AND ALSO VALIDATING THE MODEL WITH THE TRAINING DATA MAY NOT TELL HOW ACCURATE THE MOEL IS"
   ]
  },
  {
   "cell_type": "code",
   "execution_count": 40,
   "id": "6e81362d",
   "metadata": {},
   "outputs": [],
   "source": [
    "from sklearn.model_selection import train_test_split"
   ]
  },
  {
   "cell_type": "code",
   "execution_count": 41,
   "id": "bc615c3c",
   "metadata": {},
   "outputs": [],
   "source": [
    "X_train, X_test, y_train, y_test = train_test_split(df['message'], df['label'])"
   ]
  },
  {
   "cell_type": "code",
   "execution_count": null,
   "id": "a5c9ff37",
   "metadata": {},
   "outputs": [],
   "source": []
  },
  {
   "cell_type": "markdown",
   "id": "ca90f50b",
   "metadata": {},
   "source": [
    "<h4>USING PIPELINE TO AUTOMATE OUR PROCESS</h4>\n",
    "pipeline will automate all the proccess we followed previously which are: CountVectorizer, TfidfTransformer and MultinomialNB\n",
    "<br><br>\n",
    "<h6>THE TEXT IS STILL RAW SO WE ARE GOING TO PROCESS IT BY:</h6>\n",
    "<li>removing special characters from the message using string.punctuation\n",
    "<li>remove stop words using nltk stopwords.words('english') method\n",
    "<li>NOTE: this is already implemented in a single function as cdreated above: text_processing(text)"
   ]
  },
  {
   "cell_type": "code",
   "execution_count": 42,
   "id": "8d1540a0",
   "metadata": {},
   "outputs": [],
   "source": [
    "from sklearn.pipeline import Pipeline"
   ]
  },
  {
   "cell_type": "code",
   "execution_count": 43,
   "id": "9d3cc34c",
   "metadata": {},
   "outputs": [],
   "source": [
    "pipeline_input = [('bow', CountVectorizer(analyzer=text_processing)), \n",
    "                  ('tfidf', TfidfTransformer()), \n",
    "                  ('classifier', MultinomialNB())]\n",
    "pipeline = Pipeline(pipeline_input)"
   ]
  },
  {
   "cell_type": "code",
   "execution_count": null,
   "id": "39d49cb6",
   "metadata": {},
   "outputs": [],
   "source": [
    "pipeline.fit(X_train, y_train)"
   ]
  },
  {
   "cell_type": "code",
   "execution_count": null,
   "id": "d672140b",
   "metadata": {},
   "outputs": [],
   "source": []
  },
  {
   "cell_type": "code",
   "execution_count": null,
   "id": "e816a6b9",
   "metadata": {},
   "outputs": [],
   "source": [
    "# NOW PREDICTING ON TEST SET\n",
    "prediction = pipeline.predict(X_test)"
   ]
  },
  {
   "cell_type": "code",
   "execution_count": null,
   "id": "43f5ad66",
   "metadata": {},
   "outputs": [],
   "source": []
  },
  {
   "cell_type": "markdown",
   "id": "19d345f5",
   "metadata": {},
   "source": [
    "<h4>VALIDATING THE MODEL</h4>"
   ]
  },
  {
   "cell_type": "code",
   "execution_count": null,
   "id": "e1b8eb92",
   "metadata": {},
   "outputs": [],
   "source": [
    "from sklearn.metrics import classification_report, confusion_matrix"
   ]
  },
  {
   "cell_type": "code",
   "execution_count": null,
   "id": "4ca81eb4",
   "metadata": {},
   "outputs": [],
   "source": [
    "print(classification_report(y_test, prediction))"
   ]
  },
  {
   "cell_type": "markdown",
   "id": "d7229e73",
   "metadata": {},
   "source": [
    "the above report shows 96% accuracy of our prediction"
   ]
  },
  {
   "cell_type": "code",
   "execution_count": null,
   "id": "76a9520a",
   "metadata": {},
   "outputs": [],
   "source": []
  }
 ],
 "metadata": {
  "kernelspec": {
   "display_name": "Python 3",
   "language": "python",
   "name": "python3"
  },
  "language_info": {
   "codemirror_mode": {
    "name": "ipython",
    "version": 3
   },
   "file_extension": ".py",
   "mimetype": "text/x-python",
   "name": "python",
   "nbconvert_exporter": "python",
   "pygments_lexer": "ipython3",
   "version": "3.8.8"
  }
 },
 "nbformat": 4,
 "nbformat_minor": 5
}
